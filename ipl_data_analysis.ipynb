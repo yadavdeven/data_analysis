{
  "nbformat": 4,
  "nbformat_minor": 0,
  "metadata": {
    "colab": {
      "name": "ipl_data_analysis.ipynb",
      "provenance": [],
      "collapsed_sections": []
    },
    "kernelspec": {
      "name": "python3",
      "display_name": "Python 3"
    },
    "language_info": {
      "name": "python"
    }
  },
  "cells": [
    {
      "cell_type": "markdown",
      "metadata": {
        "id": "kgJP93W9TWDc"
      },
      "source": [
        "##INDIAN PREMIER LEAGUE DATA ANALYSIS:"
      ]
    },
    {
      "cell_type": "markdown",
      "metadata": {
        "id": "kB0K98crUa6f"
      },
      "source": [
        "HIGHLIGHTS OF THE DATA:\n",
        "\n",
        "\n",
        "*   The data avalibale is from the year 2008 to 2019.\n",
        "*   The data has information about the team performances and individual performance is not availbale.\n",
        "\n"
      ]
    },
    {
      "cell_type": "markdown",
      "metadata": {
        "id": "HYYgrZ5qVHAW"
      },
      "source": [
        "**Topics covered in Analysis:**\n",
        "\n",
        "\n",
        "1.   Most successful teams over the years.\n",
        "2.   Most successful team year by year.   \n",
        "3.   Impact of toss on the result.\n",
        "4.   Impact of batting and fielding first on result.\n",
        "5.   Best performers over the years.\n",
        "\n",
        "\n",
        "\n",
        "\n",
        "\n",
        "\n",
        "\n",
        "\n"
      ]
    },
    {
      "cell_type": "code",
      "metadata": {
        "id": "TOMVmoafpk9g"
      },
      "source": [
        "## importing libraries:\n",
        "\n",
        "import pandas as pd\n",
        "import numpy as np\n",
        "import matplotlib.pyplot as plt\n",
        "%matplotlib inline\n",
        "import seaborn as sns"
      ],
      "execution_count": 1,
      "outputs": []
    },
    {
      "cell_type": "code",
      "metadata": {
        "id": "xqsSWouyp75M"
      },
      "source": [
        "from urllib.request import urlretrieve"
      ],
      "execution_count": 2,
      "outputs": []
    },
    {
      "cell_type": "code",
      "metadata": {
        "colab": {
          "base_uri": "https://localhost:8080/"
        },
        "id": "6rC46BpIqCo9",
        "outputId": "dd1a2bc7-060a-41e9-faad-1061d7b2d02b"
      },
      "source": [
        "urlretrieve('https://github.com/ashutoshkrris/Data-Analysis-with-Python/raw/master/zerotopandas-course-project-starter/dataset/matches.csv','matches.csv')"
      ],
      "execution_count": 3,
      "outputs": [
        {
          "output_type": "execute_result",
          "data": {
            "text/plain": [
              "('matches.csv', <http.client.HTTPMessage at 0x7f79d49dae90>)"
            ]
          },
          "metadata": {
            "tags": []
          },
          "execution_count": 3
        }
      ]
    },
    {
      "cell_type": "code",
      "metadata": {
        "id": "wkDg9V_FqGAA"
      },
      "source": [
        "## assigning data as df:\n",
        "\n",
        "df = pd.read_csv(\"matches.csv\")"
      ],
      "execution_count": 4,
      "outputs": []
    },
    {
      "cell_type": "markdown",
      "metadata": {
        "id": "hcIpYAxnH6OO"
      },
      "source": [
        "##Overview of the dataset:"
      ]
    },
    {
      "cell_type": "code",
      "metadata": {
        "colab": {
          "base_uri": "https://localhost:8080/",
          "height": 448
        },
        "id": "iSl5meLWqKhi",
        "outputId": "1483360d-5e18-46f3-e666-535c71d57231"
      },
      "source": [
        "df.head()"
      ],
      "execution_count": 5,
      "outputs": [
        {
          "output_type": "execute_result",
          "data": {
            "text/html": [
              "<div>\n",
              "<style scoped>\n",
              "    .dataframe tbody tr th:only-of-type {\n",
              "        vertical-align: middle;\n",
              "    }\n",
              "\n",
              "    .dataframe tbody tr th {\n",
              "        vertical-align: top;\n",
              "    }\n",
              "\n",
              "    .dataframe thead th {\n",
              "        text-align: right;\n",
              "    }\n",
              "</style>\n",
              "<table border=\"1\" class=\"dataframe\">\n",
              "  <thead>\n",
              "    <tr style=\"text-align: right;\">\n",
              "      <th></th>\n",
              "      <th>id</th>\n",
              "      <th>Season</th>\n",
              "      <th>city</th>\n",
              "      <th>date</th>\n",
              "      <th>team1</th>\n",
              "      <th>team2</th>\n",
              "      <th>toss_winner</th>\n",
              "      <th>toss_decision</th>\n",
              "      <th>result</th>\n",
              "      <th>dl_applied</th>\n",
              "      <th>winner</th>\n",
              "      <th>win_by_runs</th>\n",
              "      <th>win_by_wickets</th>\n",
              "      <th>player_of_match</th>\n",
              "      <th>venue</th>\n",
              "      <th>umpire1</th>\n",
              "      <th>umpire2</th>\n",
              "      <th>umpire3</th>\n",
              "    </tr>\n",
              "  </thead>\n",
              "  <tbody>\n",
              "    <tr>\n",
              "      <th>0</th>\n",
              "      <td>1</td>\n",
              "      <td>IPL-2017</td>\n",
              "      <td>Hyderabad</td>\n",
              "      <td>05-04-2017</td>\n",
              "      <td>Sunrisers Hyderabad</td>\n",
              "      <td>Royal Challengers Bangalore</td>\n",
              "      <td>Royal Challengers Bangalore</td>\n",
              "      <td>field</td>\n",
              "      <td>normal</td>\n",
              "      <td>0</td>\n",
              "      <td>Sunrisers Hyderabad</td>\n",
              "      <td>35</td>\n",
              "      <td>0</td>\n",
              "      <td>Yuvraj Singh</td>\n",
              "      <td>Rajiv Gandhi International Stadium, Uppal</td>\n",
              "      <td>AY Dandekar</td>\n",
              "      <td>NJ Llong</td>\n",
              "      <td>NaN</td>\n",
              "    </tr>\n",
              "    <tr>\n",
              "      <th>1</th>\n",
              "      <td>2</td>\n",
              "      <td>IPL-2017</td>\n",
              "      <td>Pune</td>\n",
              "      <td>06-04-2017</td>\n",
              "      <td>Mumbai Indians</td>\n",
              "      <td>Rising Pune Supergiants</td>\n",
              "      <td>Rising Pune Supergiants</td>\n",
              "      <td>field</td>\n",
              "      <td>normal</td>\n",
              "      <td>0</td>\n",
              "      <td>Rising Pune Supergiants</td>\n",
              "      <td>0</td>\n",
              "      <td>7</td>\n",
              "      <td>SPD Smith</td>\n",
              "      <td>Maharashtra Cricket Association Stadium</td>\n",
              "      <td>A Nand Kishore</td>\n",
              "      <td>S Ravi</td>\n",
              "      <td>NaN</td>\n",
              "    </tr>\n",
              "    <tr>\n",
              "      <th>2</th>\n",
              "      <td>3</td>\n",
              "      <td>IPL-2017</td>\n",
              "      <td>Rajkot</td>\n",
              "      <td>07-04-2017</td>\n",
              "      <td>Gujarat Lions</td>\n",
              "      <td>Kolkata Knight Riders</td>\n",
              "      <td>Kolkata Knight Riders</td>\n",
              "      <td>field</td>\n",
              "      <td>normal</td>\n",
              "      <td>0</td>\n",
              "      <td>Kolkata Knight Riders</td>\n",
              "      <td>0</td>\n",
              "      <td>10</td>\n",
              "      <td>CA Lynn</td>\n",
              "      <td>Saurashtra Cricket Association Stadium</td>\n",
              "      <td>Nitin Menon</td>\n",
              "      <td>CK Nandan</td>\n",
              "      <td>NaN</td>\n",
              "    </tr>\n",
              "    <tr>\n",
              "      <th>3</th>\n",
              "      <td>4</td>\n",
              "      <td>IPL-2017</td>\n",
              "      <td>Indore</td>\n",
              "      <td>08-04-2017</td>\n",
              "      <td>Rising Pune Supergiants</td>\n",
              "      <td>Kings XI Punjab</td>\n",
              "      <td>Kings XI Punjab</td>\n",
              "      <td>field</td>\n",
              "      <td>normal</td>\n",
              "      <td>0</td>\n",
              "      <td>Kings XI Punjab</td>\n",
              "      <td>0</td>\n",
              "      <td>6</td>\n",
              "      <td>GJ Maxwell</td>\n",
              "      <td>Holkar Cricket Stadium</td>\n",
              "      <td>AK Chaudhary</td>\n",
              "      <td>C Shamshuddin</td>\n",
              "      <td>NaN</td>\n",
              "    </tr>\n",
              "    <tr>\n",
              "      <th>4</th>\n",
              "      <td>5</td>\n",
              "      <td>IPL-2017</td>\n",
              "      <td>Bangalore</td>\n",
              "      <td>08-04-2017</td>\n",
              "      <td>Royal Challengers Bangalore</td>\n",
              "      <td>Delhi Daredevils</td>\n",
              "      <td>Royal Challengers Bangalore</td>\n",
              "      <td>bat</td>\n",
              "      <td>normal</td>\n",
              "      <td>0</td>\n",
              "      <td>Royal Challengers Bangalore</td>\n",
              "      <td>15</td>\n",
              "      <td>0</td>\n",
              "      <td>KM Jadhav</td>\n",
              "      <td>M Chinnaswamy Stadium</td>\n",
              "      <td>NaN</td>\n",
              "      <td>NaN</td>\n",
              "      <td>NaN</td>\n",
              "    </tr>\n",
              "  </tbody>\n",
              "</table>\n",
              "</div>"
            ],
            "text/plain": [
              "   id    Season       city  ...         umpire1        umpire2 umpire3\n",
              "0   1  IPL-2017  Hyderabad  ...     AY Dandekar       NJ Llong     NaN\n",
              "1   2  IPL-2017       Pune  ...  A Nand Kishore         S Ravi     NaN\n",
              "2   3  IPL-2017     Rajkot  ...     Nitin Menon      CK Nandan     NaN\n",
              "3   4  IPL-2017     Indore  ...    AK Chaudhary  C Shamshuddin     NaN\n",
              "4   5  IPL-2017  Bangalore  ...             NaN            NaN     NaN\n",
              "\n",
              "[5 rows x 18 columns]"
            ]
          },
          "metadata": {
            "tags": []
          },
          "execution_count": 5
        }
      ]
    },
    {
      "cell_type": "code",
      "metadata": {
        "colab": {
          "base_uri": "https://localhost:8080/"
        },
        "id": "489Y1bEHqNEO",
        "outputId": "144f33eb-4218-4def-aa0b-5019d8beeaf8"
      },
      "source": [
        "df.shape"
      ],
      "execution_count": 6,
      "outputs": [
        {
          "output_type": "execute_result",
          "data": {
            "text/plain": [
              "(756, 18)"
            ]
          },
          "metadata": {
            "tags": []
          },
          "execution_count": 6
        }
      ]
    },
    {
      "cell_type": "code",
      "metadata": {
        "colab": {
          "base_uri": "https://localhost:8080/"
        },
        "id": "JNpV0LlQqVOl",
        "outputId": "fbe56e8b-a01b-403e-e5bf-6dc6d90b6d51"
      },
      "source": [
        "df.info()"
      ],
      "execution_count": 7,
      "outputs": [
        {
          "output_type": "stream",
          "text": [
            "<class 'pandas.core.frame.DataFrame'>\n",
            "RangeIndex: 756 entries, 0 to 755\n",
            "Data columns (total 18 columns):\n",
            " #   Column           Non-Null Count  Dtype \n",
            "---  ------           --------------  ----- \n",
            " 0   id               756 non-null    int64 \n",
            " 1   Season           756 non-null    object\n",
            " 2   city             749 non-null    object\n",
            " 3   date             756 non-null    object\n",
            " 4   team1            756 non-null    object\n",
            " 5   team2            756 non-null    object\n",
            " 6   toss_winner      756 non-null    object\n",
            " 7   toss_decision    756 non-null    object\n",
            " 8   result           756 non-null    object\n",
            " 9   dl_applied       756 non-null    int64 \n",
            " 10  winner           752 non-null    object\n",
            " 11  win_by_runs      756 non-null    int64 \n",
            " 12  win_by_wickets   756 non-null    int64 \n",
            " 13  player_of_match  752 non-null    object\n",
            " 14  venue            756 non-null    object\n",
            " 15  umpire1          754 non-null    object\n",
            " 16  umpire2          754 non-null    object\n",
            " 17  umpire3          119 non-null    object\n",
            "dtypes: int64(4), object(14)\n",
            "memory usage: 106.4+ KB\n"
          ],
          "name": "stdout"
        }
      ]
    },
    {
      "cell_type": "code",
      "metadata": {
        "colab": {
          "base_uri": "https://localhost:8080/"
        },
        "id": "Wb_12IWEqYlA",
        "outputId": "53662657-4646-4fcd-9b5e-fdc9166818ee"
      },
      "source": [
        "df.isnull().sum()"
      ],
      "execution_count": 8,
      "outputs": [
        {
          "output_type": "execute_result",
          "data": {
            "text/plain": [
              "id                   0\n",
              "Season               0\n",
              "city                 7\n",
              "date                 0\n",
              "team1                0\n",
              "team2                0\n",
              "toss_winner          0\n",
              "toss_decision        0\n",
              "result               0\n",
              "dl_applied           0\n",
              "winner               4\n",
              "win_by_runs          0\n",
              "win_by_wickets       0\n",
              "player_of_match      4\n",
              "venue                0\n",
              "umpire1              2\n",
              "umpire2              2\n",
              "umpire3            637\n",
              "dtype: int64"
            ]
          },
          "metadata": {
            "tags": []
          },
          "execution_count": 8
        }
      ]
    },
    {
      "cell_type": "markdown",
      "metadata": {
        "id": "hN3g7JRaIJCy"
      },
      "source": [
        "##Inference from the overview:\n",
        "\n",
        "\n",
        "*   Our dataset has 18 columns with most columns having dtype as object.\n",
        "*   There are some null values present in our dataset but those are only few in numbers.\n",
        "\n",
        "*   Some columns like umpire are of hardly any use.\n",
        "\n",
        "\n"
      ]
    },
    {
      "cell_type": "code",
      "metadata": {
        "id": "FiZfa9ogqfLh"
      },
      "source": [
        "## droping this 3 columns since they won't help us in exploration since there aren't any information related to right or wrong decisions given by umpires.\n",
        "\n",
        "df = df.drop([\"umpire1\",\"umpire2\",\"umpire3\"],axis=1)"
      ],
      "execution_count": 9,
      "outputs": []
    },
    {
      "cell_type": "code",
      "metadata": {
        "id": "K-rfAdraq9kR"
      },
      "source": [
        "## dropping id column as well:\n",
        "df = df.drop(\"id\",axis=1)"
      ],
      "execution_count": 10,
      "outputs": []
    },
    {
      "cell_type": "code",
      "metadata": {
        "colab": {
          "base_uri": "https://localhost:8080/"
        },
        "id": "vzRrTRzprFqB",
        "outputId": "3b6c7b6a-5a09-4817-f96b-12227e18cd89"
      },
      "source": [
        "## checking the value counts for each season which will let us know the number of matches being conducted in that season.\n",
        "## The numbers vary due to obvious reasons like more number of teams in some season and different format in some seasons.\n",
        "\n",
        "df.Season.value_counts()"
      ],
      "execution_count": 11,
      "outputs": [
        {
          "output_type": "execute_result",
          "data": {
            "text/plain": [
              "IPL-2013    76\n",
              "IPL-2012    74\n",
              "IPL-2011    73\n",
              "IPL-2014    60\n",
              "IPL-2018    60\n",
              "IPL-2019    60\n",
              "IPL-2016    60\n",
              "IPL-2010    60\n",
              "IPL-2015    59\n",
              "IPL-2017    59\n",
              "IPL-2008    58\n",
              "IPL-2009    57\n",
              "Name: Season, dtype: int64"
            ]
          },
          "metadata": {
            "tags": []
          },
          "execution_count": 11
        }
      ]
    },
    {
      "cell_type": "code",
      "metadata": {
        "colab": {
          "base_uri": "https://localhost:8080/"
        },
        "id": "nKyJu8ybrJ4Q",
        "outputId": "6e8fe814-1eeb-4e64-de52-9937728df1fb"
      },
      "source": [
        "## checking number of matches in which duckworth-lewis methods were used.\n",
        "\n",
        "df.dl_applied.value_counts()"
      ],
      "execution_count": 12,
      "outputs": [
        {
          "output_type": "execute_result",
          "data": {
            "text/plain": [
              "0    737\n",
              "1     19\n",
              "Name: dl_applied, dtype: int64"
            ]
          },
          "metadata": {
            "tags": []
          },
          "execution_count": 12
        }
      ]
    },
    {
      "cell_type": "code",
      "metadata": {
        "id": "pyU0xjlhrl8F"
      },
      "source": [
        "from datetime import datetime"
      ],
      "execution_count": 13,
      "outputs": []
    },
    {
      "cell_type": "code",
      "metadata": {
        "id": "k0h_6i6yrcjc"
      },
      "source": [
        "df.date = pd.to_datetime(df[\"date\"])"
      ],
      "execution_count": 14,
      "outputs": []
    },
    {
      "cell_type": "code",
      "metadata": {
        "colab": {
          "base_uri": "https://localhost:8080/"
        },
        "id": "C1oUCJ8csNcx",
        "outputId": "51a55185-ac74-4382-dbe2-c57f15d8daf3"
      },
      "source": [
        "df.date"
      ],
      "execution_count": 15,
      "outputs": [
        {
          "output_type": "execute_result",
          "data": {
            "text/plain": [
              "0     2017-05-04\n",
              "1     2017-06-04\n",
              "2     2017-07-04\n",
              "3     2017-08-04\n",
              "4     2017-08-04\n",
              "         ...    \n",
              "751   2019-05-05\n",
              "752   2019-07-05\n",
              "753   2019-08-05\n",
              "754   2019-10-05\n",
              "755   2019-12-05\n",
              "Name: date, Length: 756, dtype: datetime64[ns]"
            ]
          },
          "metadata": {
            "tags": []
          },
          "execution_count": 15
        }
      ]
    },
    {
      "cell_type": "code",
      "metadata": {
        "id": "3qtUd-XlsW1Q",
        "colab": {
          "base_uri": "https://localhost:8080/",
          "height": 448
        },
        "outputId": "7affc1d0-82e2-44e3-ca75-f1c4f23c250d"
      },
      "source": [
        "df.head()"
      ],
      "execution_count": 16,
      "outputs": [
        {
          "output_type": "execute_result",
          "data": {
            "text/html": [
              "<div>\n",
              "<style scoped>\n",
              "    .dataframe tbody tr th:only-of-type {\n",
              "        vertical-align: middle;\n",
              "    }\n",
              "\n",
              "    .dataframe tbody tr th {\n",
              "        vertical-align: top;\n",
              "    }\n",
              "\n",
              "    .dataframe thead th {\n",
              "        text-align: right;\n",
              "    }\n",
              "</style>\n",
              "<table border=\"1\" class=\"dataframe\">\n",
              "  <thead>\n",
              "    <tr style=\"text-align: right;\">\n",
              "      <th></th>\n",
              "      <th>Season</th>\n",
              "      <th>city</th>\n",
              "      <th>date</th>\n",
              "      <th>team1</th>\n",
              "      <th>team2</th>\n",
              "      <th>toss_winner</th>\n",
              "      <th>toss_decision</th>\n",
              "      <th>result</th>\n",
              "      <th>dl_applied</th>\n",
              "      <th>winner</th>\n",
              "      <th>win_by_runs</th>\n",
              "      <th>win_by_wickets</th>\n",
              "      <th>player_of_match</th>\n",
              "      <th>venue</th>\n",
              "    </tr>\n",
              "  </thead>\n",
              "  <tbody>\n",
              "    <tr>\n",
              "      <th>0</th>\n",
              "      <td>IPL-2017</td>\n",
              "      <td>Hyderabad</td>\n",
              "      <td>2017-05-04</td>\n",
              "      <td>Sunrisers Hyderabad</td>\n",
              "      <td>Royal Challengers Bangalore</td>\n",
              "      <td>Royal Challengers Bangalore</td>\n",
              "      <td>field</td>\n",
              "      <td>normal</td>\n",
              "      <td>0</td>\n",
              "      <td>Sunrisers Hyderabad</td>\n",
              "      <td>35</td>\n",
              "      <td>0</td>\n",
              "      <td>Yuvraj Singh</td>\n",
              "      <td>Rajiv Gandhi International Stadium, Uppal</td>\n",
              "    </tr>\n",
              "    <tr>\n",
              "      <th>1</th>\n",
              "      <td>IPL-2017</td>\n",
              "      <td>Pune</td>\n",
              "      <td>2017-06-04</td>\n",
              "      <td>Mumbai Indians</td>\n",
              "      <td>Rising Pune Supergiants</td>\n",
              "      <td>Rising Pune Supergiants</td>\n",
              "      <td>field</td>\n",
              "      <td>normal</td>\n",
              "      <td>0</td>\n",
              "      <td>Rising Pune Supergiants</td>\n",
              "      <td>0</td>\n",
              "      <td>7</td>\n",
              "      <td>SPD Smith</td>\n",
              "      <td>Maharashtra Cricket Association Stadium</td>\n",
              "    </tr>\n",
              "    <tr>\n",
              "      <th>2</th>\n",
              "      <td>IPL-2017</td>\n",
              "      <td>Rajkot</td>\n",
              "      <td>2017-07-04</td>\n",
              "      <td>Gujarat Lions</td>\n",
              "      <td>Kolkata Knight Riders</td>\n",
              "      <td>Kolkata Knight Riders</td>\n",
              "      <td>field</td>\n",
              "      <td>normal</td>\n",
              "      <td>0</td>\n",
              "      <td>Kolkata Knight Riders</td>\n",
              "      <td>0</td>\n",
              "      <td>10</td>\n",
              "      <td>CA Lynn</td>\n",
              "      <td>Saurashtra Cricket Association Stadium</td>\n",
              "    </tr>\n",
              "    <tr>\n",
              "      <th>3</th>\n",
              "      <td>IPL-2017</td>\n",
              "      <td>Indore</td>\n",
              "      <td>2017-08-04</td>\n",
              "      <td>Rising Pune Supergiants</td>\n",
              "      <td>Kings XI Punjab</td>\n",
              "      <td>Kings XI Punjab</td>\n",
              "      <td>field</td>\n",
              "      <td>normal</td>\n",
              "      <td>0</td>\n",
              "      <td>Kings XI Punjab</td>\n",
              "      <td>0</td>\n",
              "      <td>6</td>\n",
              "      <td>GJ Maxwell</td>\n",
              "      <td>Holkar Cricket Stadium</td>\n",
              "    </tr>\n",
              "    <tr>\n",
              "      <th>4</th>\n",
              "      <td>IPL-2017</td>\n",
              "      <td>Bangalore</td>\n",
              "      <td>2017-08-04</td>\n",
              "      <td>Royal Challengers Bangalore</td>\n",
              "      <td>Delhi Daredevils</td>\n",
              "      <td>Royal Challengers Bangalore</td>\n",
              "      <td>bat</td>\n",
              "      <td>normal</td>\n",
              "      <td>0</td>\n",
              "      <td>Royal Challengers Bangalore</td>\n",
              "      <td>15</td>\n",
              "      <td>0</td>\n",
              "      <td>KM Jadhav</td>\n",
              "      <td>M Chinnaswamy Stadium</td>\n",
              "    </tr>\n",
              "  </tbody>\n",
              "</table>\n",
              "</div>"
            ],
            "text/plain": [
              "     Season  ...                                      venue\n",
              "0  IPL-2017  ...  Rajiv Gandhi International Stadium, Uppal\n",
              "1  IPL-2017  ...    Maharashtra Cricket Association Stadium\n",
              "2  IPL-2017  ...     Saurashtra Cricket Association Stadium\n",
              "3  IPL-2017  ...                     Holkar Cricket Stadium\n",
              "4  IPL-2017  ...                      M Chinnaswamy Stadium\n",
              "\n",
              "[5 rows x 14 columns]"
            ]
          },
          "metadata": {
            "tags": []
          },
          "execution_count": 16
        }
      ]
    },
    {
      "cell_type": "code",
      "metadata": {
        "colab": {
          "base_uri": "https://localhost:8080/"
        },
        "id": "ivxWzWvNsDR1",
        "outputId": "add56725-6cf7-4bcb-baf2-6e191d9ea1d7"
      },
      "source": [
        "## looking at all team names.\n",
        "\n",
        "df.team1.unique()"
      ],
      "execution_count": 17,
      "outputs": [
        {
          "output_type": "execute_result",
          "data": {
            "text/plain": [
              "array(['Sunrisers Hyderabad', 'Mumbai Indians', 'Gujarat Lions',\n",
              "       'Rising Pune Supergiants', 'Royal Challengers Bangalore',\n",
              "       'Kolkata Knight Riders', 'Delhi Daredevils', 'Kings XI Punjab',\n",
              "       'Chennai Super Kings', 'Rajasthan Royals', 'Deccan Chargers',\n",
              "       'Kochi Tuskers Kerala', 'Pune Warriors', 'Delhi Capitals'],\n",
              "      dtype=object)"
            ]
          },
          "metadata": {
            "tags": []
          },
          "execution_count": 17
        }
      ]
    },
    {
      "cell_type": "code",
      "metadata": {
        "id": "2V9MYJIesZ20"
      },
      "source": [
        "## Modifying names of all the teams for following reaons:\n",
        "\n",
        "## 1. shorter names will make calling the names of teams very easy during exploration.\n",
        "\n",
        "## 2. It won't create any confusion since most of the times teams are called with their reduced names.\n",
        "\n",
        "## 3. Some teams have changed their after some years like Delhi and Hyderabad.\n",
        "\n",
        "## 4. labelling will be easy during graphical plotting.\n",
        "\n",
        "df = df.replace({'Sunrisers Hyderabad':\"SRH\", 'Mumbai Indians': \"MI\", 'Gujarat Lions':\"GL\",\n",
        "       'Rising Pune Supergiants': \"Pune\", 'Royal Challengers Bangalore': \"RCB\",\n",
        "       'Kolkata Knight Riders': \"KKR\", 'Delhi Daredevils': \"Delhi\", 'Kings XI Punjab':\"Punjab\",\n",
        "       'Chennai Super Kings':\"CSK\", 'Rajasthan Royals': \"RR\", 'Deccan Chargers':\"SRH\",\n",
        "       'Kochi Tuskers Kerala':\"KTK\", 'Pune Warriors':\"Pune\", 'Delhi Capitals':\"Delhi\"})"
      ],
      "execution_count": 18,
      "outputs": []
    },
    {
      "cell_type": "code",
      "metadata": {
        "colab": {
          "base_uri": "https://localhost:8080/",
          "height": 308
        },
        "id": "6k9tkN-utqch",
        "outputId": "e6215850-8b49-404d-e1a4-f3eab3fb763f"
      },
      "source": [
        "df.head()"
      ],
      "execution_count": 19,
      "outputs": [
        {
          "output_type": "execute_result",
          "data": {
            "text/html": [
              "<div>\n",
              "<style scoped>\n",
              "    .dataframe tbody tr th:only-of-type {\n",
              "        vertical-align: middle;\n",
              "    }\n",
              "\n",
              "    .dataframe tbody tr th {\n",
              "        vertical-align: top;\n",
              "    }\n",
              "\n",
              "    .dataframe thead th {\n",
              "        text-align: right;\n",
              "    }\n",
              "</style>\n",
              "<table border=\"1\" class=\"dataframe\">\n",
              "  <thead>\n",
              "    <tr style=\"text-align: right;\">\n",
              "      <th></th>\n",
              "      <th>Season</th>\n",
              "      <th>city</th>\n",
              "      <th>date</th>\n",
              "      <th>team1</th>\n",
              "      <th>team2</th>\n",
              "      <th>toss_winner</th>\n",
              "      <th>toss_decision</th>\n",
              "      <th>result</th>\n",
              "      <th>dl_applied</th>\n",
              "      <th>winner</th>\n",
              "      <th>win_by_runs</th>\n",
              "      <th>win_by_wickets</th>\n",
              "      <th>player_of_match</th>\n",
              "      <th>venue</th>\n",
              "    </tr>\n",
              "  </thead>\n",
              "  <tbody>\n",
              "    <tr>\n",
              "      <th>0</th>\n",
              "      <td>IPL-2017</td>\n",
              "      <td>Hyderabad</td>\n",
              "      <td>2017-05-04</td>\n",
              "      <td>SRH</td>\n",
              "      <td>RCB</td>\n",
              "      <td>RCB</td>\n",
              "      <td>field</td>\n",
              "      <td>normal</td>\n",
              "      <td>0</td>\n",
              "      <td>SRH</td>\n",
              "      <td>35</td>\n",
              "      <td>0</td>\n",
              "      <td>Yuvraj Singh</td>\n",
              "      <td>Rajiv Gandhi International Stadium, Uppal</td>\n",
              "    </tr>\n",
              "    <tr>\n",
              "      <th>1</th>\n",
              "      <td>IPL-2017</td>\n",
              "      <td>Pune</td>\n",
              "      <td>2017-06-04</td>\n",
              "      <td>MI</td>\n",
              "      <td>Pune</td>\n",
              "      <td>Pune</td>\n",
              "      <td>field</td>\n",
              "      <td>normal</td>\n",
              "      <td>0</td>\n",
              "      <td>Pune</td>\n",
              "      <td>0</td>\n",
              "      <td>7</td>\n",
              "      <td>SPD Smith</td>\n",
              "      <td>Maharashtra Cricket Association Stadium</td>\n",
              "    </tr>\n",
              "    <tr>\n",
              "      <th>2</th>\n",
              "      <td>IPL-2017</td>\n",
              "      <td>Rajkot</td>\n",
              "      <td>2017-07-04</td>\n",
              "      <td>GL</td>\n",
              "      <td>KKR</td>\n",
              "      <td>KKR</td>\n",
              "      <td>field</td>\n",
              "      <td>normal</td>\n",
              "      <td>0</td>\n",
              "      <td>KKR</td>\n",
              "      <td>0</td>\n",
              "      <td>10</td>\n",
              "      <td>CA Lynn</td>\n",
              "      <td>Saurashtra Cricket Association Stadium</td>\n",
              "    </tr>\n",
              "    <tr>\n",
              "      <th>3</th>\n",
              "      <td>IPL-2017</td>\n",
              "      <td>Indore</td>\n",
              "      <td>2017-08-04</td>\n",
              "      <td>Pune</td>\n",
              "      <td>Punjab</td>\n",
              "      <td>Punjab</td>\n",
              "      <td>field</td>\n",
              "      <td>normal</td>\n",
              "      <td>0</td>\n",
              "      <td>Punjab</td>\n",
              "      <td>0</td>\n",
              "      <td>6</td>\n",
              "      <td>GJ Maxwell</td>\n",
              "      <td>Holkar Cricket Stadium</td>\n",
              "    </tr>\n",
              "    <tr>\n",
              "      <th>4</th>\n",
              "      <td>IPL-2017</td>\n",
              "      <td>Bangalore</td>\n",
              "      <td>2017-08-04</td>\n",
              "      <td>RCB</td>\n",
              "      <td>Delhi</td>\n",
              "      <td>RCB</td>\n",
              "      <td>bat</td>\n",
              "      <td>normal</td>\n",
              "      <td>0</td>\n",
              "      <td>RCB</td>\n",
              "      <td>15</td>\n",
              "      <td>0</td>\n",
              "      <td>KM Jadhav</td>\n",
              "      <td>M Chinnaswamy Stadium</td>\n",
              "    </tr>\n",
              "  </tbody>\n",
              "</table>\n",
              "</div>"
            ],
            "text/plain": [
              "     Season  ...                                      venue\n",
              "0  IPL-2017  ...  Rajiv Gandhi International Stadium, Uppal\n",
              "1  IPL-2017  ...    Maharashtra Cricket Association Stadium\n",
              "2  IPL-2017  ...     Saurashtra Cricket Association Stadium\n",
              "3  IPL-2017  ...                     Holkar Cricket Stadium\n",
              "4  IPL-2017  ...                      M Chinnaswamy Stadium\n",
              "\n",
              "[5 rows x 14 columns]"
            ]
          },
          "metadata": {
            "tags": []
          },
          "execution_count": 19
        }
      ]
    },
    {
      "cell_type": "code",
      "metadata": {
        "colab": {
          "base_uri": "https://localhost:8080/"
        },
        "id": "eh2gfQXvtsgv",
        "outputId": "cc2a5ccb-29f9-4b1b-b7d2-01de57996ed7"
      },
      "source": [
        "## The most basic criteria before exploration is making sure that there isn't any null values.\n",
        "\n",
        "df.isnull().sum()"
      ],
      "execution_count": 20,
      "outputs": [
        {
          "output_type": "execute_result",
          "data": {
            "text/plain": [
              "Season             0\n",
              "city               7\n",
              "date               0\n",
              "team1              0\n",
              "team2              0\n",
              "toss_winner        0\n",
              "toss_decision      0\n",
              "result             0\n",
              "dl_applied         0\n",
              "winner             4\n",
              "win_by_runs        0\n",
              "win_by_wickets     0\n",
              "player_of_match    4\n",
              "venue              0\n",
              "dtype: int64"
            ]
          },
          "metadata": {
            "tags": []
          },
          "execution_count": 20
        }
      ]
    },
    {
      "cell_type": "code",
      "metadata": {
        "colab": {
          "base_uri": "https://localhost:8080/",
          "height": 387
        },
        "id": "ZvM9Ib-duMhf",
        "outputId": "6f524694-0b19-4d33-aae7-c8430b23a942"
      },
      "source": [
        "## There are 4 null values in city column.\n",
        "\n",
        "## Though the city column is null but the venue column can help us fill those values.\n",
        "\n",
        "## all null values belong to season 2014.\n",
        "\n",
        "df[df[\"city\"].isnull()]"
      ],
      "execution_count": 21,
      "outputs": [
        {
          "output_type": "execute_result",
          "data": {
            "text/html": [
              "<div>\n",
              "<style scoped>\n",
              "    .dataframe tbody tr th:only-of-type {\n",
              "        vertical-align: middle;\n",
              "    }\n",
              "\n",
              "    .dataframe tbody tr th {\n",
              "        vertical-align: top;\n",
              "    }\n",
              "\n",
              "    .dataframe thead th {\n",
              "        text-align: right;\n",
              "    }\n",
              "</style>\n",
              "<table border=\"1\" class=\"dataframe\">\n",
              "  <thead>\n",
              "    <tr style=\"text-align: right;\">\n",
              "      <th></th>\n",
              "      <th>Season</th>\n",
              "      <th>city</th>\n",
              "      <th>date</th>\n",
              "      <th>team1</th>\n",
              "      <th>team2</th>\n",
              "      <th>toss_winner</th>\n",
              "      <th>toss_decision</th>\n",
              "      <th>result</th>\n",
              "      <th>dl_applied</th>\n",
              "      <th>winner</th>\n",
              "      <th>win_by_runs</th>\n",
              "      <th>win_by_wickets</th>\n",
              "      <th>player_of_match</th>\n",
              "      <th>venue</th>\n",
              "    </tr>\n",
              "  </thead>\n",
              "  <tbody>\n",
              "    <tr>\n",
              "      <th>461</th>\n",
              "      <td>IPL-2014</td>\n",
              "      <td>NaN</td>\n",
              "      <td>2014-04-19</td>\n",
              "      <td>MI</td>\n",
              "      <td>RCB</td>\n",
              "      <td>RCB</td>\n",
              "      <td>field</td>\n",
              "      <td>normal</td>\n",
              "      <td>0</td>\n",
              "      <td>RCB</td>\n",
              "      <td>0</td>\n",
              "      <td>7</td>\n",
              "      <td>PA Patel</td>\n",
              "      <td>Dubai International Cricket Stadium</td>\n",
              "    </tr>\n",
              "    <tr>\n",
              "      <th>462</th>\n",
              "      <td>IPL-2014</td>\n",
              "      <td>NaN</td>\n",
              "      <td>2014-04-19</td>\n",
              "      <td>KKR</td>\n",
              "      <td>Delhi</td>\n",
              "      <td>KKR</td>\n",
              "      <td>bat</td>\n",
              "      <td>normal</td>\n",
              "      <td>0</td>\n",
              "      <td>Delhi</td>\n",
              "      <td>0</td>\n",
              "      <td>4</td>\n",
              "      <td>JP Duminy</td>\n",
              "      <td>Dubai International Cricket Stadium</td>\n",
              "    </tr>\n",
              "    <tr>\n",
              "      <th>466</th>\n",
              "      <td>IPL-2014</td>\n",
              "      <td>NaN</td>\n",
              "      <td>2014-04-23</td>\n",
              "      <td>CSK</td>\n",
              "      <td>RR</td>\n",
              "      <td>RR</td>\n",
              "      <td>field</td>\n",
              "      <td>normal</td>\n",
              "      <td>0</td>\n",
              "      <td>CSK</td>\n",
              "      <td>7</td>\n",
              "      <td>0</td>\n",
              "      <td>RA Jadeja</td>\n",
              "      <td>Dubai International Cricket Stadium</td>\n",
              "    </tr>\n",
              "    <tr>\n",
              "      <th>468</th>\n",
              "      <td>IPL-2014</td>\n",
              "      <td>NaN</td>\n",
              "      <td>2014-04-25</td>\n",
              "      <td>SRH</td>\n",
              "      <td>Delhi</td>\n",
              "      <td>SRH</td>\n",
              "      <td>bat</td>\n",
              "      <td>normal</td>\n",
              "      <td>0</td>\n",
              "      <td>SRH</td>\n",
              "      <td>4</td>\n",
              "      <td>0</td>\n",
              "      <td>AJ Finch</td>\n",
              "      <td>Dubai International Cricket Stadium</td>\n",
              "    </tr>\n",
              "    <tr>\n",
              "      <th>469</th>\n",
              "      <td>IPL-2014</td>\n",
              "      <td>NaN</td>\n",
              "      <td>2014-04-25</td>\n",
              "      <td>MI</td>\n",
              "      <td>CSK</td>\n",
              "      <td>MI</td>\n",
              "      <td>bat</td>\n",
              "      <td>normal</td>\n",
              "      <td>0</td>\n",
              "      <td>CSK</td>\n",
              "      <td>0</td>\n",
              "      <td>7</td>\n",
              "      <td>MM Sharma</td>\n",
              "      <td>Dubai International Cricket Stadium</td>\n",
              "    </tr>\n",
              "    <tr>\n",
              "      <th>474</th>\n",
              "      <td>IPL-2014</td>\n",
              "      <td>NaN</td>\n",
              "      <td>2014-04-28</td>\n",
              "      <td>RCB</td>\n",
              "      <td>Punjab</td>\n",
              "      <td>Punjab</td>\n",
              "      <td>field</td>\n",
              "      <td>normal</td>\n",
              "      <td>0</td>\n",
              "      <td>Punjab</td>\n",
              "      <td>0</td>\n",
              "      <td>5</td>\n",
              "      <td>Sandeep Sharma</td>\n",
              "      <td>Dubai International Cricket Stadium</td>\n",
              "    </tr>\n",
              "    <tr>\n",
              "      <th>476</th>\n",
              "      <td>IPL-2014</td>\n",
              "      <td>NaN</td>\n",
              "      <td>2014-04-30</td>\n",
              "      <td>SRH</td>\n",
              "      <td>MI</td>\n",
              "      <td>MI</td>\n",
              "      <td>field</td>\n",
              "      <td>normal</td>\n",
              "      <td>0</td>\n",
              "      <td>SRH</td>\n",
              "      <td>15</td>\n",
              "      <td>0</td>\n",
              "      <td>B Kumar</td>\n",
              "      <td>Dubai International Cricket Stadium</td>\n",
              "    </tr>\n",
              "  </tbody>\n",
              "</table>\n",
              "</div>"
            ],
            "text/plain": [
              "       Season city  ... player_of_match                                venue\n",
              "461  IPL-2014  NaN  ...        PA Patel  Dubai International Cricket Stadium\n",
              "462  IPL-2014  NaN  ...       JP Duminy  Dubai International Cricket Stadium\n",
              "466  IPL-2014  NaN  ...       RA Jadeja  Dubai International Cricket Stadium\n",
              "468  IPL-2014  NaN  ...        AJ Finch  Dubai International Cricket Stadium\n",
              "469  IPL-2014  NaN  ...       MM Sharma  Dubai International Cricket Stadium\n",
              "474  IPL-2014  NaN  ...  Sandeep Sharma  Dubai International Cricket Stadium\n",
              "476  IPL-2014  NaN  ...         B Kumar  Dubai International Cricket Stadium\n",
              "\n",
              "[7 rows x 14 columns]"
            ]
          },
          "metadata": {
            "tags": []
          },
          "execution_count": 21
        }
      ]
    },
    {
      "cell_type": "code",
      "metadata": {
        "colab": {
          "base_uri": "https://localhost:8080/"
        },
        "id": "EUJMaPFOvUfN",
        "outputId": "a3ac96c3-c602-4acb-a1d2-0fbb64c6992e"
      },
      "source": [
        "## checking all season whose data is available in the dataset.\n",
        "\n",
        "df.Season.unique()"
      ],
      "execution_count": 22,
      "outputs": [
        {
          "output_type": "execute_result",
          "data": {
            "text/plain": [
              "array(['IPL-2017', 'IPL-2008', 'IPL-2009', 'IPL-2010', 'IPL-2011',\n",
              "       'IPL-2012', 'IPL-2013', 'IPL-2014', 'IPL-2015', 'IPL-2016',\n",
              "       'IPL-2018', 'IPL-2019'], dtype=object)"
            ]
          },
          "metadata": {
            "tags": []
          },
          "execution_count": 22
        }
      ]
    },
    {
      "cell_type": "code",
      "metadata": {
        "id": "B3prkUzVvsmN"
      },
      "source": [
        "## changing the season name as per year which will make calling those season easy.\n",
        "\n",
        "df = df.replace({'IPL-2017':2017, 'IPL-2008':2008, 'IPL-2009':2009, 'IPL-2010':2010, 'IPL-2011':2011,\n",
        "       'IPL-2012':2012, 'IPL-2013':2013, 'IPL-2014':2014, 'IPL-2015':2015, 'IPL-2016':2016,\n",
        "       'IPL-2018':2018, 'IPL-2019':2019})"
      ],
      "execution_count": 23,
      "outputs": []
    },
    {
      "cell_type": "code",
      "metadata": {
        "colab": {
          "base_uri": "https://localhost:8080/",
          "height": 163
        },
        "id": "pmOXlZ3_wLz9",
        "outputId": "f033c10e-7c9b-47c9-d058-4b6043b047e5"
      },
      "source": [
        "df.head(2)"
      ],
      "execution_count": 24,
      "outputs": [
        {
          "output_type": "execute_result",
          "data": {
            "text/html": [
              "<div>\n",
              "<style scoped>\n",
              "    .dataframe tbody tr th:only-of-type {\n",
              "        vertical-align: middle;\n",
              "    }\n",
              "\n",
              "    .dataframe tbody tr th {\n",
              "        vertical-align: top;\n",
              "    }\n",
              "\n",
              "    .dataframe thead th {\n",
              "        text-align: right;\n",
              "    }\n",
              "</style>\n",
              "<table border=\"1\" class=\"dataframe\">\n",
              "  <thead>\n",
              "    <tr style=\"text-align: right;\">\n",
              "      <th></th>\n",
              "      <th>Season</th>\n",
              "      <th>city</th>\n",
              "      <th>date</th>\n",
              "      <th>team1</th>\n",
              "      <th>team2</th>\n",
              "      <th>toss_winner</th>\n",
              "      <th>toss_decision</th>\n",
              "      <th>result</th>\n",
              "      <th>dl_applied</th>\n",
              "      <th>winner</th>\n",
              "      <th>win_by_runs</th>\n",
              "      <th>win_by_wickets</th>\n",
              "      <th>player_of_match</th>\n",
              "      <th>venue</th>\n",
              "    </tr>\n",
              "  </thead>\n",
              "  <tbody>\n",
              "    <tr>\n",
              "      <th>0</th>\n",
              "      <td>2017</td>\n",
              "      <td>Hyderabad</td>\n",
              "      <td>2017-05-04</td>\n",
              "      <td>SRH</td>\n",
              "      <td>RCB</td>\n",
              "      <td>RCB</td>\n",
              "      <td>field</td>\n",
              "      <td>normal</td>\n",
              "      <td>0</td>\n",
              "      <td>SRH</td>\n",
              "      <td>35</td>\n",
              "      <td>0</td>\n",
              "      <td>Yuvraj Singh</td>\n",
              "      <td>Rajiv Gandhi International Stadium, Uppal</td>\n",
              "    </tr>\n",
              "    <tr>\n",
              "      <th>1</th>\n",
              "      <td>2017</td>\n",
              "      <td>Pune</td>\n",
              "      <td>2017-06-04</td>\n",
              "      <td>MI</td>\n",
              "      <td>Pune</td>\n",
              "      <td>Pune</td>\n",
              "      <td>field</td>\n",
              "      <td>normal</td>\n",
              "      <td>0</td>\n",
              "      <td>Pune</td>\n",
              "      <td>0</td>\n",
              "      <td>7</td>\n",
              "      <td>SPD Smith</td>\n",
              "      <td>Maharashtra Cricket Association Stadium</td>\n",
              "    </tr>\n",
              "  </tbody>\n",
              "</table>\n",
              "</div>"
            ],
            "text/plain": [
              "   Season       city  ... player_of_match                                      venue\n",
              "0    2017  Hyderabad  ...    Yuvraj Singh  Rajiv Gandhi International Stadium, Uppal\n",
              "1    2017       Pune  ...       SPD Smith    Maharashtra Cricket Association Stadium\n",
              "\n",
              "[2 rows x 14 columns]"
            ]
          },
          "metadata": {
            "tags": []
          },
          "execution_count": 24
        }
      ]
    },
    {
      "cell_type": "code",
      "metadata": {
        "colab": {
          "base_uri": "https://localhost:8080/"
        },
        "id": "1nPTrgbZwhkt",
        "outputId": "799d11ae-38bf-484f-8ed5-7f8756c2c29d"
      },
      "source": [
        "## checking all city names for 2014 season.\n",
        "\n",
        "df[df[\"Season\"] == 2014].city.unique()"
      ],
      "execution_count": 25,
      "outputs": [
        {
          "output_type": "execute_result",
          "data": {
            "text/plain": [
              "array(['Abu Dhabi', 'Sharjah', nan, 'Ranchi', 'Mumbai', 'Delhi',\n",
              "       'Bangalore', 'Ahmedabad', 'Cuttack', 'Hyderabad', 'Kolkata',\n",
              "       'Chandigarh'], dtype=object)"
            ]
          },
          "metadata": {
            "tags": []
          },
          "execution_count": 25
        }
      ]
    },
    {
      "cell_type": "code",
      "metadata": {
        "colab": {
          "base_uri": "https://localhost:8080/"
        },
        "id": "e4AEJWiPxWu2",
        "outputId": "9ec9a4fc-e93a-442e-d9f4-8b5755909384"
      },
      "source": [
        "## checking all venue names for 2014 season.\n",
        "\n",
        "df[df[\"Season\"] == 2014].venue.unique()"
      ],
      "execution_count": 26,
      "outputs": [
        {
          "output_type": "execute_result",
          "data": {
            "text/plain": [
              "array(['Sheikh Zayed Stadium', 'Sharjah Cricket Stadium',\n",
              "       'Dubai International Cricket Stadium',\n",
              "       'JSCA International Stadium Complex', 'Wankhede Stadium',\n",
              "       'Feroz Shah Kotla', 'M Chinnaswamy Stadium',\n",
              "       'Sardar Patel Stadium, Motera', 'Barabati Stadium',\n",
              "       'Rajiv Gandhi International Stadium, Uppal', 'Eden Gardens',\n",
              "       'Punjab Cricket Association Stadium, Mohali', 'Brabourne Stadium'],\n",
              "      dtype=object)"
            ]
          },
          "metadata": {
            "tags": []
          },
          "execution_count": 26
        }
      ]
    },
    {
      "cell_type": "code",
      "metadata": {
        "id": "4p7Ogk1E3En5"
      },
      "source": [
        "## we had 4 null values in city column whose venue was Dubai International stadium which implies that city would have been Dubai.\n",
        "\n",
        "## So filling those missing values with \"Dubai\".\n",
        "\n",
        "df[\"city\"] = df[\"city\"].fillna(\"Dubai\")"
      ],
      "execution_count": 27,
      "outputs": []
    },
    {
      "cell_type": "code",
      "metadata": {
        "colab": {
          "base_uri": "https://localhost:8080/"
        },
        "id": "5Ts05n3B4_nS",
        "outputId": "c72b64bf-1430-4f2b-9d5d-62277385d673"
      },
      "source": [
        "## looking at the list we are left with 4 null values in winner and 4 null values in player of the match.\n",
        "\n",
        "df.isnull().sum()"
      ],
      "execution_count": 28,
      "outputs": [
        {
          "output_type": "execute_result",
          "data": {
            "text/plain": [
              "Season             0\n",
              "city               0\n",
              "date               0\n",
              "team1              0\n",
              "team2              0\n",
              "toss_winner        0\n",
              "toss_decision      0\n",
              "result             0\n",
              "dl_applied         0\n",
              "winner             4\n",
              "win_by_runs        0\n",
              "win_by_wickets     0\n",
              "player_of_match    4\n",
              "venue              0\n",
              "dtype: int64"
            ]
          },
          "metadata": {
            "tags": []
          },
          "execution_count": 28
        }
      ]
    },
    {
      "cell_type": "code",
      "metadata": {
        "colab": {
          "base_uri": "https://localhost:8080/",
          "height": 243
        },
        "id": "3OlJ_P-GT6jo",
        "outputId": "2245bfee-5440-40b8-af58-9f97b3176ced"
      },
      "source": [
        "## looking at below filtered table in which the winner column was null we can say following things:\n",
        "\n",
        "## 1. The null values doesn't correspond to missing values but rather the match was called off.\n",
        "\n",
        "## 2. So we will not drop these columns but rather fill some appropriate value for the same.\n",
        "\n",
        "df[df[\"winner\"].isnull()]"
      ],
      "execution_count": 29,
      "outputs": [
        {
          "output_type": "execute_result",
          "data": {
            "text/html": [
              "<div>\n",
              "<style scoped>\n",
              "    .dataframe tbody tr th:only-of-type {\n",
              "        vertical-align: middle;\n",
              "    }\n",
              "\n",
              "    .dataframe tbody tr th {\n",
              "        vertical-align: top;\n",
              "    }\n",
              "\n",
              "    .dataframe thead th {\n",
              "        text-align: right;\n",
              "    }\n",
              "</style>\n",
              "<table border=\"1\" class=\"dataframe\">\n",
              "  <thead>\n",
              "    <tr style=\"text-align: right;\">\n",
              "      <th></th>\n",
              "      <th>Season</th>\n",
              "      <th>city</th>\n",
              "      <th>date</th>\n",
              "      <th>team1</th>\n",
              "      <th>team2</th>\n",
              "      <th>toss_winner</th>\n",
              "      <th>toss_decision</th>\n",
              "      <th>result</th>\n",
              "      <th>dl_applied</th>\n",
              "      <th>winner</th>\n",
              "      <th>win_by_runs</th>\n",
              "      <th>win_by_wickets</th>\n",
              "      <th>player_of_match</th>\n",
              "      <th>venue</th>\n",
              "    </tr>\n",
              "  </thead>\n",
              "  <tbody>\n",
              "    <tr>\n",
              "      <th>300</th>\n",
              "      <td>2011</td>\n",
              "      <td>Delhi</td>\n",
              "      <td>2011-05-21</td>\n",
              "      <td>Delhi</td>\n",
              "      <td>Pune</td>\n",
              "      <td>Delhi</td>\n",
              "      <td>bat</td>\n",
              "      <td>no result</td>\n",
              "      <td>0</td>\n",
              "      <td>NaN</td>\n",
              "      <td>0</td>\n",
              "      <td>0</td>\n",
              "      <td>NaN</td>\n",
              "      <td>Feroz Shah Kotla</td>\n",
              "    </tr>\n",
              "    <tr>\n",
              "      <th>545</th>\n",
              "      <td>2015</td>\n",
              "      <td>Bangalore</td>\n",
              "      <td>2015-04-29</td>\n",
              "      <td>RCB</td>\n",
              "      <td>RR</td>\n",
              "      <td>RR</td>\n",
              "      <td>field</td>\n",
              "      <td>no result</td>\n",
              "      <td>0</td>\n",
              "      <td>NaN</td>\n",
              "      <td>0</td>\n",
              "      <td>0</td>\n",
              "      <td>NaN</td>\n",
              "      <td>M Chinnaswamy Stadium</td>\n",
              "    </tr>\n",
              "    <tr>\n",
              "      <th>570</th>\n",
              "      <td>2015</td>\n",
              "      <td>Bangalore</td>\n",
              "      <td>2015-05-17</td>\n",
              "      <td>Delhi</td>\n",
              "      <td>RCB</td>\n",
              "      <td>RCB</td>\n",
              "      <td>field</td>\n",
              "      <td>no result</td>\n",
              "      <td>0</td>\n",
              "      <td>NaN</td>\n",
              "      <td>0</td>\n",
              "      <td>0</td>\n",
              "      <td>NaN</td>\n",
              "      <td>M Chinnaswamy Stadium</td>\n",
              "    </tr>\n",
              "    <tr>\n",
              "      <th>744</th>\n",
              "      <td>2019</td>\n",
              "      <td>Bengaluru</td>\n",
              "      <td>2019-04-30</td>\n",
              "      <td>RCB</td>\n",
              "      <td>RR</td>\n",
              "      <td>RR</td>\n",
              "      <td>field</td>\n",
              "      <td>no result</td>\n",
              "      <td>0</td>\n",
              "      <td>NaN</td>\n",
              "      <td>0</td>\n",
              "      <td>0</td>\n",
              "      <td>NaN</td>\n",
              "      <td>M. Chinnaswamy Stadium</td>\n",
              "    </tr>\n",
              "  </tbody>\n",
              "</table>\n",
              "</div>"
            ],
            "text/plain": [
              "     Season       city  ... player_of_match                   venue\n",
              "300    2011      Delhi  ...             NaN        Feroz Shah Kotla\n",
              "545    2015  Bangalore  ...             NaN   M Chinnaswamy Stadium\n",
              "570    2015  Bangalore  ...             NaN   M Chinnaswamy Stadium\n",
              "744    2019  Bengaluru  ...             NaN  M. Chinnaswamy Stadium\n",
              "\n",
              "[4 rows x 14 columns]"
            ]
          },
          "metadata": {
            "tags": []
          },
          "execution_count": 29
        }
      ]
    },
    {
      "cell_type": "code",
      "metadata": {
        "id": "6K41FBMc6rba"
      },
      "source": [
        "## filling null values in winner and player of the match column:\n",
        "\n",
        "df.winner = df.winner.fillna(\"None\")\n",
        "\n",
        "df.player_of_match = df.player_of_match.fillna(\"None\")"
      ],
      "execution_count": 30,
      "outputs": []
    },
    {
      "cell_type": "code",
      "metadata": {
        "colab": {
          "base_uri": "https://localhost:8080/"
        },
        "id": "X5mLDT_b7TsB",
        "outputId": "a5fd6e1e-e16a-4cd1-8a47-e289e1168321"
      },
      "source": [
        "## we can see that our data doesn't have any null values.\n",
        "df.isnull().sum()"
      ],
      "execution_count": 31,
      "outputs": [
        {
          "output_type": "execute_result",
          "data": {
            "text/plain": [
              "Season             0\n",
              "city               0\n",
              "date               0\n",
              "team1              0\n",
              "team2              0\n",
              "toss_winner        0\n",
              "toss_decision      0\n",
              "result             0\n",
              "dl_applied         0\n",
              "winner             0\n",
              "win_by_runs        0\n",
              "win_by_wickets     0\n",
              "player_of_match    0\n",
              "venue              0\n",
              "dtype: int64"
            ]
          },
          "metadata": {
            "tags": []
          },
          "execution_count": 31
        }
      ]
    },
    {
      "cell_type": "code",
      "metadata": {
        "colab": {
          "base_uri": "https://localhost:8080/"
        },
        "id": "fmGhXLwQ7Wp2",
        "outputId": "08e508cb-c3e3-486a-d2db-8882ed0fe890"
      },
      "source": [
        "df.result.value_counts()"
      ],
      "execution_count": 32,
      "outputs": [
        {
          "output_type": "execute_result",
          "data": {
            "text/plain": [
              "normal       743\n",
              "tie            9\n",
              "no result      4\n",
              "Name: result, dtype: int64"
            ]
          },
          "metadata": {
            "tags": []
          },
          "execution_count": 32
        }
      ]
    },
    {
      "cell_type": "code",
      "metadata": {
        "colab": {
          "base_uri": "https://localhost:8080/",
          "height": 211
        },
        "id": "mMLN-dzP7gU-",
        "outputId": "d58e1f0c-155a-4717-ac64-40e226fd1297"
      },
      "source": [
        "df.head(3)"
      ],
      "execution_count": 33,
      "outputs": [
        {
          "output_type": "execute_result",
          "data": {
            "text/html": [
              "<div>\n",
              "<style scoped>\n",
              "    .dataframe tbody tr th:only-of-type {\n",
              "        vertical-align: middle;\n",
              "    }\n",
              "\n",
              "    .dataframe tbody tr th {\n",
              "        vertical-align: top;\n",
              "    }\n",
              "\n",
              "    .dataframe thead th {\n",
              "        text-align: right;\n",
              "    }\n",
              "</style>\n",
              "<table border=\"1\" class=\"dataframe\">\n",
              "  <thead>\n",
              "    <tr style=\"text-align: right;\">\n",
              "      <th></th>\n",
              "      <th>Season</th>\n",
              "      <th>city</th>\n",
              "      <th>date</th>\n",
              "      <th>team1</th>\n",
              "      <th>team2</th>\n",
              "      <th>toss_winner</th>\n",
              "      <th>toss_decision</th>\n",
              "      <th>result</th>\n",
              "      <th>dl_applied</th>\n",
              "      <th>winner</th>\n",
              "      <th>win_by_runs</th>\n",
              "      <th>win_by_wickets</th>\n",
              "      <th>player_of_match</th>\n",
              "      <th>venue</th>\n",
              "    </tr>\n",
              "  </thead>\n",
              "  <tbody>\n",
              "    <tr>\n",
              "      <th>0</th>\n",
              "      <td>2017</td>\n",
              "      <td>Hyderabad</td>\n",
              "      <td>2017-05-04</td>\n",
              "      <td>SRH</td>\n",
              "      <td>RCB</td>\n",
              "      <td>RCB</td>\n",
              "      <td>field</td>\n",
              "      <td>normal</td>\n",
              "      <td>0</td>\n",
              "      <td>SRH</td>\n",
              "      <td>35</td>\n",
              "      <td>0</td>\n",
              "      <td>Yuvraj Singh</td>\n",
              "      <td>Rajiv Gandhi International Stadium, Uppal</td>\n",
              "    </tr>\n",
              "    <tr>\n",
              "      <th>1</th>\n",
              "      <td>2017</td>\n",
              "      <td>Pune</td>\n",
              "      <td>2017-06-04</td>\n",
              "      <td>MI</td>\n",
              "      <td>Pune</td>\n",
              "      <td>Pune</td>\n",
              "      <td>field</td>\n",
              "      <td>normal</td>\n",
              "      <td>0</td>\n",
              "      <td>Pune</td>\n",
              "      <td>0</td>\n",
              "      <td>7</td>\n",
              "      <td>SPD Smith</td>\n",
              "      <td>Maharashtra Cricket Association Stadium</td>\n",
              "    </tr>\n",
              "    <tr>\n",
              "      <th>2</th>\n",
              "      <td>2017</td>\n",
              "      <td>Rajkot</td>\n",
              "      <td>2017-07-04</td>\n",
              "      <td>GL</td>\n",
              "      <td>KKR</td>\n",
              "      <td>KKR</td>\n",
              "      <td>field</td>\n",
              "      <td>normal</td>\n",
              "      <td>0</td>\n",
              "      <td>KKR</td>\n",
              "      <td>0</td>\n",
              "      <td>10</td>\n",
              "      <td>CA Lynn</td>\n",
              "      <td>Saurashtra Cricket Association Stadium</td>\n",
              "    </tr>\n",
              "  </tbody>\n",
              "</table>\n",
              "</div>"
            ],
            "text/plain": [
              "   Season       city  ... player_of_match                                      venue\n",
              "0    2017  Hyderabad  ...    Yuvraj Singh  Rajiv Gandhi International Stadium, Uppal\n",
              "1    2017       Pune  ...       SPD Smith    Maharashtra Cricket Association Stadium\n",
              "2    2017     Rajkot  ...         CA Lynn     Saurashtra Cricket Association Stadium\n",
              "\n",
              "[3 rows x 14 columns]"
            ]
          },
          "metadata": {
            "tags": []
          },
          "execution_count": 33
        }
      ]
    },
    {
      "cell_type": "code",
      "metadata": {
        "id": "53nAAoF0713d"
      },
      "source": [
        "## Looking at teams with most number of wins:\n",
        "\n",
        "## we have used [:-1] to left out the last row since it contained none for 4 matches which were unable to take place.\n",
        "\n",
        "most_wins_df = df['winner'].value_counts()[:-1]\n",
        "\n",
        "most_wins_df = pd.DataFrame(most_wins_df)"
      ],
      "execution_count": 34,
      "outputs": []
    },
    {
      "cell_type": "code",
      "metadata": {
        "colab": {
          "base_uri": "https://localhost:8080/",
          "height": 392
        },
        "id": "yZ2LNm-K9TF3",
        "outputId": "30322675-a783-49c6-954a-cad1361451b5"
      },
      "source": [
        "most_wins_df"
      ],
      "execution_count": 35,
      "outputs": [
        {
          "output_type": "execute_result",
          "data": {
            "text/html": [
              "<div>\n",
              "<style scoped>\n",
              "    .dataframe tbody tr th:only-of-type {\n",
              "        vertical-align: middle;\n",
              "    }\n",
              "\n",
              "    .dataframe tbody tr th {\n",
              "        vertical-align: top;\n",
              "    }\n",
              "\n",
              "    .dataframe thead th {\n",
              "        text-align: right;\n",
              "    }\n",
              "</style>\n",
              "<table border=\"1\" class=\"dataframe\">\n",
              "  <thead>\n",
              "    <tr style=\"text-align: right;\">\n",
              "      <th></th>\n",
              "      <th>winner</th>\n",
              "    </tr>\n",
              "  </thead>\n",
              "  <tbody>\n",
              "    <tr>\n",
              "      <th>MI</th>\n",
              "      <td>109</td>\n",
              "    </tr>\n",
              "    <tr>\n",
              "      <th>CSK</th>\n",
              "      <td>100</td>\n",
              "    </tr>\n",
              "    <tr>\n",
              "      <th>KKR</th>\n",
              "      <td>92</td>\n",
              "    </tr>\n",
              "    <tr>\n",
              "      <th>SRH</th>\n",
              "      <td>87</td>\n",
              "    </tr>\n",
              "    <tr>\n",
              "      <th>RCB</th>\n",
              "      <td>84</td>\n",
              "    </tr>\n",
              "    <tr>\n",
              "      <th>Punjab</th>\n",
              "      <td>82</td>\n",
              "    </tr>\n",
              "    <tr>\n",
              "      <th>Delhi</th>\n",
              "      <td>77</td>\n",
              "    </tr>\n",
              "    <tr>\n",
              "      <th>RR</th>\n",
              "      <td>75</td>\n",
              "    </tr>\n",
              "    <tr>\n",
              "      <th>Pune</th>\n",
              "      <td>27</td>\n",
              "    </tr>\n",
              "    <tr>\n",
              "      <th>GL</th>\n",
              "      <td>13</td>\n",
              "    </tr>\n",
              "    <tr>\n",
              "      <th>KTK</th>\n",
              "      <td>6</td>\n",
              "    </tr>\n",
              "  </tbody>\n",
              "</table>\n",
              "</div>"
            ],
            "text/plain": [
              "        winner\n",
              "MI         109\n",
              "CSK        100\n",
              "KKR         92\n",
              "SRH         87\n",
              "RCB         84\n",
              "Punjab      82\n",
              "Delhi       77\n",
              "RR          75\n",
              "Pune        27\n",
              "GL          13\n",
              "KTK          6"
            ]
          },
          "metadata": {
            "tags": []
          },
          "execution_count": 35
        }
      ]
    },
    {
      "cell_type": "code",
      "metadata": {
        "colab": {
          "base_uri": "https://localhost:8080/"
        },
        "id": "RtUqv66hXwE-",
        "outputId": "b01e9aa3-66a7-4db3-9064-17754d8a3896"
      },
      "source": [
        "most_wins_df.index"
      ],
      "execution_count": 36,
      "outputs": [
        {
          "output_type": "execute_result",
          "data": {
            "text/plain": [
              "Index(['MI', 'CSK', 'KKR', 'SRH', 'RCB', 'Punjab', 'Delhi', 'RR', 'Pune', 'GL',\n",
              "       'KTK'],\n",
              "      dtype='object')"
            ]
          },
          "metadata": {
            "tags": []
          },
          "execution_count": 36
        }
      ]
    },
    {
      "cell_type": "code",
      "metadata": {
        "id": "7ayfgGob95Oi"
      },
      "source": [
        "sns.set_style(\"darkgrid\")"
      ],
      "execution_count": 37,
      "outputs": []
    },
    {
      "cell_type": "code",
      "metadata": {
        "colab": {
          "base_uri": "https://localhost:8080/",
          "height": 505
        },
        "id": "z9K_uNXj8jkL",
        "outputId": "d7948726-f7b6-4dea-ed6b-69d75084acda"
      },
      "source": [
        "plt.figure(figsize=(12,8))\n",
        "sns.barplot(x = most_wins_df.index,y = most_wins_df.winner)\n",
        "plt.ylabel(\"Number of Matches Won\",fontsize = 14)\n",
        "plt.xticks(fontsize = 14)\n",
        "plt.title(\"NUMBER OF MATCHES WON BY A TEAM\",{\"fontsize\":16});"
      ],
      "execution_count": 38,
      "outputs": [
        {
          "output_type": "display_data",
          "data": {
            "image/png": "[encoded data removed]",
            "text/plain": [
              "<Figure size 864x576 with 1 Axes>"
            ]
          },
          "metadata": {
            "tags": []
          }
        }
      ]
    },
    {
      "cell_type": "code",
      "metadata": {
        "id": "jhhdcKWf93b4"
      },
      "source": [
        "## looking at most man of the match awards:\n",
        "\n",
        "most_mom_df = pd.DataFrame(data = df[\"player_of_match\"].value_counts())\n",
        "most_mom_df = most_mom_df.reset_index()"
      ],
      "execution_count": 39,
      "outputs": []
    },
    {
      "cell_type": "code",
      "metadata": {
        "colab": {
          "base_uri": "https://localhost:8080/",
          "height": 421
        },
        "id": "rH_GutrWRcq_",
        "outputId": "2ebb1da5-da46-4564-9fb9-fa6a81d10642"
      },
      "source": [
        "most_mom_df"
      ],
      "execution_count": 40,
      "outputs": [
        {
          "output_type": "execute_result",
          "data": {
            "text/html": [
              "<div>\n",
              "<style scoped>\n",
              "    .dataframe tbody tr th:only-of-type {\n",
              "        vertical-align: middle;\n",
              "    }\n",
              "\n",
              "    .dataframe tbody tr th {\n",
              "        vertical-align: top;\n",
              "    }\n",
              "\n",
              "    .dataframe thead th {\n",
              "        text-align: right;\n",
              "    }\n",
              "</style>\n",
              "<table border=\"1\" class=\"dataframe\">\n",
              "  <thead>\n",
              "    <tr style=\"text-align: right;\">\n",
              "      <th></th>\n",
              "      <th>index</th>\n",
              "      <th>player_of_match</th>\n",
              "    </tr>\n",
              "  </thead>\n",
              "  <tbody>\n",
              "    <tr>\n",
              "      <th>0</th>\n",
              "      <td>CH Gayle</td>\n",
              "      <td>21</td>\n",
              "    </tr>\n",
              "    <tr>\n",
              "      <th>1</th>\n",
              "      <td>AB de Villiers</td>\n",
              "      <td>20</td>\n",
              "    </tr>\n",
              "    <tr>\n",
              "      <th>2</th>\n",
              "      <td>RG Sharma</td>\n",
              "      <td>17</td>\n",
              "    </tr>\n",
              "    <tr>\n",
              "      <th>3</th>\n",
              "      <td>DA Warner</td>\n",
              "      <td>17</td>\n",
              "    </tr>\n",
              "    <tr>\n",
              "      <th>4</th>\n",
              "      <td>MS Dhoni</td>\n",
              "      <td>17</td>\n",
              "    </tr>\n",
              "    <tr>\n",
              "      <th>...</th>\n",
              "      <td>...</td>\n",
              "      <td>...</td>\n",
              "    </tr>\n",
              "    <tr>\n",
              "      <th>222</th>\n",
              "      <td>CRD Fernando</td>\n",
              "      <td>1</td>\n",
              "    </tr>\n",
              "    <tr>\n",
              "      <th>223</th>\n",
              "      <td>CR Brathwaite</td>\n",
              "      <td>1</td>\n",
              "    </tr>\n",
              "    <tr>\n",
              "      <th>224</th>\n",
              "      <td>YS Chahal</td>\n",
              "      <td>1</td>\n",
              "    </tr>\n",
              "    <tr>\n",
              "      <th>225</th>\n",
              "      <td>Q de Kock</td>\n",
              "      <td>1</td>\n",
              "    </tr>\n",
              "    <tr>\n",
              "      <th>226</th>\n",
              "      <td>J Archer</td>\n",
              "      <td>1</td>\n",
              "    </tr>\n",
              "  </tbody>\n",
              "</table>\n",
              "<p>227 rows × 2 columns</p>\n",
              "</div>"
            ],
            "text/plain": [
              "              index  player_of_match\n",
              "0          CH Gayle               21\n",
              "1    AB de Villiers               20\n",
              "2         RG Sharma               17\n",
              "3         DA Warner               17\n",
              "4          MS Dhoni               17\n",
              "..              ...              ...\n",
              "222    CRD Fernando                1\n",
              "223   CR Brathwaite                1\n",
              "224       YS Chahal                1\n",
              "225       Q de Kock                1\n",
              "226        J Archer                1\n",
              "\n",
              "[227 rows x 2 columns]"
            ]
          },
          "metadata": {
            "tags": []
          },
          "execution_count": 40
        }
      ]
    },
    {
      "cell_type": "code",
      "metadata": {
        "id": "lwJ46UNDR86d"
      },
      "source": [
        "## changing column names:\n",
        "\n",
        "most_mom_df = most_mom_df.rename(columns={\"index\":\"player\",\"player_of_match\":\"num of time won\"})\n",
        "\n",
        "## selecting top 10 players with highest number of wins:\n",
        "\n",
        "most_mom_df = most_mom_df[:10]"
      ],
      "execution_count": 41,
      "outputs": []
    },
    {
      "cell_type": "code",
      "metadata": {
        "colab": {
          "base_uri": "https://localhost:8080/",
          "height": 361
        },
        "id": "aGQ8m1IJXHwt",
        "outputId": "ff2c5423-3ecb-41a3-e597-cb5c8ef66dcd"
      },
      "source": [
        "most_mom_df"
      ],
      "execution_count": 42,
      "outputs": [
        {
          "output_type": "execute_result",
          "data": {
            "text/html": [
              "<div>\n",
              "<style scoped>\n",
              "    .dataframe tbody tr th:only-of-type {\n",
              "        vertical-align: middle;\n",
              "    }\n",
              "\n",
              "    .dataframe tbody tr th {\n",
              "        vertical-align: top;\n",
              "    }\n",
              "\n",
              "    .dataframe thead th {\n",
              "        text-align: right;\n",
              "    }\n",
              "</style>\n",
              "<table border=\"1\" class=\"dataframe\">\n",
              "  <thead>\n",
              "    <tr style=\"text-align: right;\">\n",
              "      <th></th>\n",
              "      <th>player</th>\n",
              "      <th>num of time won</th>\n",
              "    </tr>\n",
              "  </thead>\n",
              "  <tbody>\n",
              "    <tr>\n",
              "      <th>0</th>\n",
              "      <td>CH Gayle</td>\n",
              "      <td>21</td>\n",
              "    </tr>\n",
              "    <tr>\n",
              "      <th>1</th>\n",
              "      <td>AB de Villiers</td>\n",
              "      <td>20</td>\n",
              "    </tr>\n",
              "    <tr>\n",
              "      <th>2</th>\n",
              "      <td>RG Sharma</td>\n",
              "      <td>17</td>\n",
              "    </tr>\n",
              "    <tr>\n",
              "      <th>3</th>\n",
              "      <td>DA Warner</td>\n",
              "      <td>17</td>\n",
              "    </tr>\n",
              "    <tr>\n",
              "      <th>4</th>\n",
              "      <td>MS Dhoni</td>\n",
              "      <td>17</td>\n",
              "    </tr>\n",
              "    <tr>\n",
              "      <th>5</th>\n",
              "      <td>YK Pathan</td>\n",
              "      <td>16</td>\n",
              "    </tr>\n",
              "    <tr>\n",
              "      <th>6</th>\n",
              "      <td>SR Watson</td>\n",
              "      <td>15</td>\n",
              "    </tr>\n",
              "    <tr>\n",
              "      <th>7</th>\n",
              "      <td>SK Raina</td>\n",
              "      <td>14</td>\n",
              "    </tr>\n",
              "    <tr>\n",
              "      <th>8</th>\n",
              "      <td>G Gambhir</td>\n",
              "      <td>13</td>\n",
              "    </tr>\n",
              "    <tr>\n",
              "      <th>9</th>\n",
              "      <td>AM Rahane</td>\n",
              "      <td>12</td>\n",
              "    </tr>\n",
              "  </tbody>\n",
              "</table>\n",
              "</div>"
            ],
            "text/plain": [
              "           player  num of time won\n",
              "0        CH Gayle               21\n",
              "1  AB de Villiers               20\n",
              "2       RG Sharma               17\n",
              "3       DA Warner               17\n",
              "4        MS Dhoni               17\n",
              "5       YK Pathan               16\n",
              "6       SR Watson               15\n",
              "7        SK Raina               14\n",
              "8       G Gambhir               13\n",
              "9       AM Rahane               12"
            ]
          },
          "metadata": {
            "tags": []
          },
          "execution_count": 42
        }
      ]
    },
    {
      "cell_type": "code",
      "metadata": {
        "colab": {
          "base_uri": "https://localhost:8080/",
          "height": 482
        },
        "id": "XP5eESVuWkMu",
        "outputId": "99aa908b-6da8-4f62-aeec-de3265029774"
      },
      "source": [
        "plt.figure(figsize=(12,6))\n",
        "sns.barplot(x = most_mom_df.player, y = most_mom_df[\"num of time won\"])\n",
        "plt.ylabel(\"Number of times won\",fontsize = 16)\n",
        "plt.xticks(fontsize = 16,rotation = 45)\n",
        "plt.title(\"MOST MAN OF THE MATCH AWARDS\",{\"fontsize\":16});"
      ],
      "execution_count": 43,
      "outputs": [
        {
          "output_type": "display_data",
          "data": {
            "image/png": "[encoded data removed]",
            "text/plain": [
              "<Figure size 864x432 with 1 Axes>"
            ]
          },
          "metadata": {
            "tags": []
          }
        }
      ]
    },
    {
      "cell_type": "code",
      "metadata": {
        "id": "ql63jpQKXUdV",
        "colab": {
          "base_uri": "https://localhost:8080/"
        },
        "outputId": "482f4dab-f62c-4469-ab54-b92c30bac365"
      },
      "source": [
        "## making a list of all seasons\n",
        "\n",
        "season_column = df.Season.unique()\n",
        "season_column"
      ],
      "execution_count": 44,
      "outputs": [
        {
          "output_type": "execute_result",
          "data": {
            "text/plain": [
              "array([2017, 2008, 2009, 2010, 2011, 2012, 2013, 2014, 2015, 2016, 2018,\n",
              "       2019])"
            ]
          },
          "metadata": {
            "tags": []
          },
          "execution_count": 44
        }
      ]
    },
    {
      "cell_type": "code",
      "metadata": {
        "id": "zlYjXhswbEif"
      },
      "source": [
        "season_column = np.sort(season_column)"
      ],
      "execution_count": 45,
      "outputs": []
    },
    {
      "cell_type": "markdown",
      "metadata": {
        "id": "4akJSa-JZtjJ"
      },
      "source": [
        "## Let us look which year has been a golden year for which team. "
      ]
    },
    {
      "cell_type": "code",
      "metadata": {
        "id": "ajDIt9cEZRR6"
      },
      "source": [
        "  highest_win_percentage_by_year = []\n",
        "  team_with_highest_win_percentage = []"
      ],
      "execution_count": 46,
      "outputs": []
    },
    {
      "cell_type": "code",
      "metadata": {
        "id": "oUJiVD_ll9zi"
      },
      "source": [
        "for season in season_column:\n",
        "\n",
        "  df_by_year = df[df[\"Season\"] == season]\n",
        "  team_most_wins = df_by_year.winner.value_counts().index[0]\n",
        "  number_of_wins = df_by_year.winner.value_counts()[0]\n",
        "  matches_played = len(df_by_year[(df_by_year.team1 == team_most_wins)|(df_by_year.team2 == team_most_wins)])\n",
        "  percentage = np.round(number_of_wins*100/matches_played,2)\n",
        "  highest_win_percentage_by_year.append(percentage)\n",
        "  team_with_highest_win_percentage.append(team_most_wins)"
      ],
      "execution_count": 47,
      "outputs": []
    },
    {
      "cell_type": "code",
      "metadata": {
        "colab": {
          "base_uri": "https://localhost:8080/"
        },
        "id": "BO9kzHMlmpss",
        "outputId": "4c2d8c33-a85c-4a22-e39d-2b7718ebaa6c"
      },
      "source": [
        "highest_win_percentage_by_year"
      ],
      "execution_count": 48,
      "outputs": [
        {
          "output_type": "execute_result",
          "data": {
            "text/plain": [
              "[81.25,\n",
              " 66.67,\n",
              " 68.75,\n",
              " 68.75,\n",
              " 70.59,\n",
              " 68.42,\n",
              " 70.59,\n",
              " 62.5,\n",
              " 64.71,\n",
              " 70.59,\n",
              " 68.75,\n",
              " 68.75]"
            ]
          },
          "metadata": {
            "tags": []
          },
          "execution_count": 48
        }
      ]
    },
    {
      "cell_type": "code",
      "metadata": {
        "colab": {
          "base_uri": "https://localhost:8080/"
        },
        "id": "uFILBcxxZApL",
        "outputId": "b8ee652c-8269-425a-a27d-f9d26092ebda"
      },
      "source": [
        "team_with_highest_win_percentage"
      ],
      "execution_count": 49,
      "outputs": [
        {
          "output_type": "execute_result",
          "data": {
            "text/plain": [
              "['RR',\n",
              " 'Delhi',\n",
              " 'MI',\n",
              " 'CSK',\n",
              " 'KKR',\n",
              " 'MI',\n",
              " 'Punjab',\n",
              " 'MI',\n",
              " 'SRH',\n",
              " 'MI',\n",
              " 'CSK',\n",
              " 'MI']"
            ]
          },
          "metadata": {
            "tags": []
          },
          "execution_count": 49
        }
      ]
    },
    {
      "cell_type": "code",
      "metadata": {
        "id": "26GemI4YZFze"
      },
      "source": [
        "## creating a dataframe from above results:\n",
        "\n",
        "most_successful_team_by_year = pd.DataFrame({\"Season\" : season_column,\"team\" : team_with_highest_win_percentage,\"win_percentage\":highest_win_percentage_by_year})"
      ],
      "execution_count": 50,
      "outputs": []
    },
    {
      "cell_type": "code",
      "metadata": {
        "colab": {
          "base_uri": "https://localhost:8080/",
          "height": 423
        },
        "id": "q2fXoyFAaCE0",
        "outputId": "1fb6ce2c-d0db-4841-99ac-2b089c2adbcf"
      },
      "source": [
        "most_successful_team_by_year"
      ],
      "execution_count": 51,
      "outputs": [
        {
          "output_type": "execute_result",
          "data": {
            "text/html": [
              "<div>\n",
              "<style scoped>\n",
              "    .dataframe tbody tr th:only-of-type {\n",
              "        vertical-align: middle;\n",
              "    }\n",
              "\n",
              "    .dataframe tbody tr th {\n",
              "        vertical-align: top;\n",
              "    }\n",
              "\n",
              "    .dataframe thead th {\n",
              "        text-align: right;\n",
              "    }\n",
              "</style>\n",
              "<table border=\"1\" class=\"dataframe\">\n",
              "  <thead>\n",
              "    <tr style=\"text-align: right;\">\n",
              "      <th></th>\n",
              "      <th>Season</th>\n",
              "      <th>team</th>\n",
              "      <th>win_percentage</th>\n",
              "    </tr>\n",
              "  </thead>\n",
              "  <tbody>\n",
              "    <tr>\n",
              "      <th>0</th>\n",
              "      <td>2008</td>\n",
              "      <td>RR</td>\n",
              "      <td>81.25</td>\n",
              "    </tr>\n",
              "    <tr>\n",
              "      <th>1</th>\n",
              "      <td>2009</td>\n",
              "      <td>Delhi</td>\n",
              "      <td>66.67</td>\n",
              "    </tr>\n",
              "    <tr>\n",
              "      <th>2</th>\n",
              "      <td>2010</td>\n",
              "      <td>MI</td>\n",
              "      <td>68.75</td>\n",
              "    </tr>\n",
              "    <tr>\n",
              "      <th>3</th>\n",
              "      <td>2011</td>\n",
              "      <td>CSK</td>\n",
              "      <td>68.75</td>\n",
              "    </tr>\n",
              "    <tr>\n",
              "      <th>4</th>\n",
              "      <td>2012</td>\n",
              "      <td>KKR</td>\n",
              "      <td>70.59</td>\n",
              "    </tr>\n",
              "    <tr>\n",
              "      <th>5</th>\n",
              "      <td>2013</td>\n",
              "      <td>MI</td>\n",
              "      <td>68.42</td>\n",
              "    </tr>\n",
              "    <tr>\n",
              "      <th>6</th>\n",
              "      <td>2014</td>\n",
              "      <td>Punjab</td>\n",
              "      <td>70.59</td>\n",
              "    </tr>\n",
              "    <tr>\n",
              "      <th>7</th>\n",
              "      <td>2015</td>\n",
              "      <td>MI</td>\n",
              "      <td>62.50</td>\n",
              "    </tr>\n",
              "    <tr>\n",
              "      <th>8</th>\n",
              "      <td>2016</td>\n",
              "      <td>SRH</td>\n",
              "      <td>64.71</td>\n",
              "    </tr>\n",
              "    <tr>\n",
              "      <th>9</th>\n",
              "      <td>2017</td>\n",
              "      <td>MI</td>\n",
              "      <td>70.59</td>\n",
              "    </tr>\n",
              "    <tr>\n",
              "      <th>10</th>\n",
              "      <td>2018</td>\n",
              "      <td>CSK</td>\n",
              "      <td>68.75</td>\n",
              "    </tr>\n",
              "    <tr>\n",
              "      <th>11</th>\n",
              "      <td>2019</td>\n",
              "      <td>MI</td>\n",
              "      <td>68.75</td>\n",
              "    </tr>\n",
              "  </tbody>\n",
              "</table>\n",
              "</div>"
            ],
            "text/plain": [
              "    Season    team  win_percentage\n",
              "0     2008      RR           81.25\n",
              "1     2009   Delhi           66.67\n",
              "2     2010      MI           68.75\n",
              "3     2011     CSK           68.75\n",
              "4     2012     KKR           70.59\n",
              "5     2013      MI           68.42\n",
              "6     2014  Punjab           70.59\n",
              "7     2015      MI           62.50\n",
              "8     2016     SRH           64.71\n",
              "9     2017      MI           70.59\n",
              "10    2018     CSK           68.75\n",
              "11    2019      MI           68.75"
            ]
          },
          "metadata": {
            "tags": []
          },
          "execution_count": 51
        }
      ]
    },
    {
      "cell_type": "code",
      "metadata": {
        "colab": {
          "base_uri": "https://localhost:8080/"
        },
        "id": "dKGgLJjGoyxl",
        "outputId": "b006ac0e-f10b-4d4c-d11f-a6d7c7c05dd5"
      },
      "source": [
        "for index,data in enumerate(most_successful_team_by_year.win_percentage):\n",
        "  print(index,data)"
      ],
      "execution_count": 52,
      "outputs": [
        {
          "output_type": "stream",
          "text": [
            "0 81.25\n",
            "1 66.67\n",
            "2 68.75\n",
            "3 68.75\n",
            "4 70.59\n",
            "5 68.42\n",
            "6 70.59\n",
            "7 62.5\n",
            "8 64.71\n",
            "9 70.59\n",
            "10 68.75\n",
            "11 68.75\n"
          ],
          "name": "stdout"
        }
      ]
    },
    {
      "cell_type": "code",
      "metadata": {
        "colab": {
          "base_uri": "https://localhost:8080/",
          "height": 440
        },
        "id": "p8QxB0Q3aio2",
        "outputId": "7b634bec-132f-41c0-801c-6f1a8ab22ef9"
      },
      "source": [
        "plt.figure(figsize=(18,6))\n",
        "sns.barplot(data = most_successful_team_by_year,x = \"Season\" ,y = \"win_percentage\")\n",
        "plt.xlabel(\"Year\",fontsize = 16)\n",
        "plt.ylabel(\"Win Percentage\",fontsize = 16)\n",
        "for index,data in enumerate(most_successful_team_by_year.win_percentage):\n",
        "  plt.text(x=index - 0.25,y=data+1,s=f\"{data}%\",fontsize = 14)\n",
        "for index,data in enumerate(most_successful_team_by_year.team):\n",
        "  plt.text(x=index - 0.35,y=0.6,s=f\"{data}\",fontsize = 16)\n",
        "plt.xticks(fontsize=12)\n",
        "plt.title(\"MOST SUCCESSFUL TEAM BY YEAR\",fontsize=18,pad=30);"
      ],
      "execution_count": 53,
      "outputs": [
        {
          "output_type": "display_data",
          "data": {
            "image/png": "[encoded data removed]",
            "text/plain": [
              "<Figure size 1296x432 with 1 Axes>"
            ]
          },
          "metadata": {
            "tags": []
          }
        }
      ]
    },
    {
      "cell_type": "code",
      "metadata": {
        "colab": {
          "base_uri": "https://localhost:8080/",
          "height": 163
        },
        "id": "_gnYpTVdcf7W",
        "outputId": "6d91e994-d375-4d2a-d101-f2263be3493e"
      },
      "source": [
        "df.head(2)"
      ],
      "execution_count": 54,
      "outputs": [
        {
          "output_type": "execute_result",
          "data": {
            "text/html": [
              "<div>\n",
              "<style scoped>\n",
              "    .dataframe tbody tr th:only-of-type {\n",
              "        vertical-align: middle;\n",
              "    }\n",
              "\n",
              "    .dataframe tbody tr th {\n",
              "        vertical-align: top;\n",
              "    }\n",
              "\n",
              "    .dataframe thead th {\n",
              "        text-align: right;\n",
              "    }\n",
              "</style>\n",
              "<table border=\"1\" class=\"dataframe\">\n",
              "  <thead>\n",
              "    <tr style=\"text-align: right;\">\n",
              "      <th></th>\n",
              "      <th>Season</th>\n",
              "      <th>city</th>\n",
              "      <th>date</th>\n",
              "      <th>team1</th>\n",
              "      <th>team2</th>\n",
              "      <th>toss_winner</th>\n",
              "      <th>toss_decision</th>\n",
              "      <th>result</th>\n",
              "      <th>dl_applied</th>\n",
              "      <th>winner</th>\n",
              "      <th>win_by_runs</th>\n",
              "      <th>win_by_wickets</th>\n",
              "      <th>player_of_match</th>\n",
              "      <th>venue</th>\n",
              "    </tr>\n",
              "  </thead>\n",
              "  <tbody>\n",
              "    <tr>\n",
              "      <th>0</th>\n",
              "      <td>2017</td>\n",
              "      <td>Hyderabad</td>\n",
              "      <td>2017-05-04</td>\n",
              "      <td>SRH</td>\n",
              "      <td>RCB</td>\n",
              "      <td>RCB</td>\n",
              "      <td>field</td>\n",
              "      <td>normal</td>\n",
              "      <td>0</td>\n",
              "      <td>SRH</td>\n",
              "      <td>35</td>\n",
              "      <td>0</td>\n",
              "      <td>Yuvraj Singh</td>\n",
              "      <td>Rajiv Gandhi International Stadium, Uppal</td>\n",
              "    </tr>\n",
              "    <tr>\n",
              "      <th>1</th>\n",
              "      <td>2017</td>\n",
              "      <td>Pune</td>\n",
              "      <td>2017-06-04</td>\n",
              "      <td>MI</td>\n",
              "      <td>Pune</td>\n",
              "      <td>Pune</td>\n",
              "      <td>field</td>\n",
              "      <td>normal</td>\n",
              "      <td>0</td>\n",
              "      <td>Pune</td>\n",
              "      <td>0</td>\n",
              "      <td>7</td>\n",
              "      <td>SPD Smith</td>\n",
              "      <td>Maharashtra Cricket Association Stadium</td>\n",
              "    </tr>\n",
              "  </tbody>\n",
              "</table>\n",
              "</div>"
            ],
            "text/plain": [
              "   Season       city  ... player_of_match                                      venue\n",
              "0    2017  Hyderabad  ...    Yuvraj Singh  Rajiv Gandhi International Stadium, Uppal\n",
              "1    2017       Pune  ...       SPD Smith    Maharashtra Cricket Association Stadium\n",
              "\n",
              "[2 rows x 14 columns]"
            ]
          },
          "metadata": {
            "tags": []
          },
          "execution_count": 54
        }
      ]
    },
    {
      "cell_type": "code",
      "metadata": {
        "id": "55UAfIaPe_vc"
      },
      "source": [
        "toss_factor = df.toss_winner == df.winner"
      ],
      "execution_count": 55,
      "outputs": []
    },
    {
      "cell_type": "code",
      "metadata": {
        "colab": {
          "base_uri": "https://localhost:8080/"
        },
        "id": "ZNIp5SRifswA",
        "outputId": "d350a583-cca6-4ba0-bce0-0a1aaf83c854"
      },
      "source": [
        "toss_factor"
      ],
      "execution_count": 56,
      "outputs": [
        {
          "output_type": "execute_result",
          "data": {
            "text/plain": [
              "0      False\n",
              "1       True\n",
              "2       True\n",
              "3       True\n",
              "4       True\n",
              "       ...  \n",
              "751     True\n",
              "752    False\n",
              "753     True\n",
              "754     True\n",
              "755     True\n",
              "Length: 756, dtype: bool"
            ]
          },
          "metadata": {
            "tags": []
          },
          "execution_count": 56
        }
      ]
    },
    {
      "cell_type": "code",
      "metadata": {
        "id": "q0lec9ULfuFe",
        "colab": {
          "base_uri": "https://localhost:8080/"
        },
        "outputId": "9cf68841-abc0-4726-ded0-0a49a3d590ad"
      },
      "source": [
        "toss_factor.value_counts()"
      ],
      "execution_count": 57,
      "outputs": [
        {
          "output_type": "execute_result",
          "data": {
            "text/plain": [
              "True     393\n",
              "False    363\n",
              "dtype: int64"
            ]
          },
          "metadata": {
            "tags": []
          },
          "execution_count": 57
        }
      ]
    },
    {
      "cell_type": "code",
      "metadata": {
        "id": "ymine9XrrRLu"
      },
      "source": [
        "toss_data = { \"Matches_won_by_toss_winner\" : 393,\n",
        "              \"Matches_won_by_toss_looser\" : 363}\n",
        "toss_data = pd.Series(toss_data)"
      ],
      "execution_count": 58,
      "outputs": []
    },
    {
      "cell_type": "code",
      "metadata": {
        "id": "hxe5is1eupmr"
      },
      "source": [
        "import warnings\n",
        "warnings.filterwarnings(\"ignore\")"
      ],
      "execution_count": 59,
      "outputs": []
    },
    {
      "cell_type": "code",
      "metadata": {
        "colab": {
          "base_uri": "https://localhost:8080/"
        },
        "id": "SmU8uB3G-exn",
        "outputId": "4835e03e-9ffe-41e4-de59-1b13e7a6db8e"
      },
      "source": [
        "toss_data.index"
      ],
      "execution_count": 60,
      "outputs": [
        {
          "output_type": "execute_result",
          "data": {
            "text/plain": [
              "Index(['Matches_won_by_toss_winner', 'Matches_won_by_toss_looser'], dtype='object')"
            ]
          },
          "metadata": {
            "tags": []
          },
          "execution_count": 60
        }
      ]
    },
    {
      "cell_type": "code",
      "metadata": {
        "colab": {
          "base_uri": "https://localhost:8080/",
          "height": 411
        },
        "id": "Tp_VqM4Ptm1G",
        "outputId": "ffe556e9-6e66-44cb-8f94-69d65ebc3f13"
      },
      "source": [
        "plt.figure(figsize=(7,7))\n",
        "plt.pie(x=toss_data,autopct=\"%.2f%%\",explode=[0.03]*2,labels=toss_data.index);"
      ],
      "execution_count": 61,
      "outputs": [
        {
          "output_type": "display_data",
          "data": {
            "image/png": "[encoded data removed]",
            "text/plain": [
              "<Figure size 504x504 with 1 Axes>"
            ]
          },
          "metadata": {
            "tags": []
          }
        }
      ]
    },
    {
      "cell_type": "markdown",
      "metadata": {
        "id": "8if5sT17AD7G"
      },
      "source": [
        "We can conclude that toss is not that big of a factor."
      ]
    },
    {
      "cell_type": "code",
      "metadata": {
        "colab": {
          "base_uri": "https://localhost:8080/"
        },
        "id": "QVfT2krpYnju",
        "outputId": "01b096ff-8c56-45ea-c03f-1275b71a1d87"
      },
      "source": [
        "df.iloc[0]"
      ],
      "execution_count": 62,
      "outputs": [
        {
          "output_type": "execute_result",
          "data": {
            "text/plain": [
              "Season                                                  2017\n",
              "city                                               Hyderabad\n",
              "date                                     2017-05-04 00:00:00\n",
              "team1                                                    SRH\n",
              "team2                                                    RCB\n",
              "toss_winner                                              RCB\n",
              "toss_decision                                          field\n",
              "result                                                normal\n",
              "dl_applied                                                 0\n",
              "winner                                                   SRH\n",
              "win_by_runs                                               35\n",
              "win_by_wickets                                             0\n",
              "player_of_match                                 Yuvraj Singh\n",
              "venue              Rajiv Gandhi International Stadium, Uppal\n",
              "Name: 0, dtype: object"
            ]
          },
          "metadata": {
            "tags": []
          },
          "execution_count": 62
        }
      ]
    },
    {
      "cell_type": "markdown",
      "metadata": {
        "id": "yMb2hr3aAWFC"
      },
      "source": [
        "## Let's see  whether a team setting a target or chasing has got an edge.. "
      ]
    },
    {
      "cell_type": "code",
      "metadata": {
        "id": "NIO7CuOKgtVt"
      },
      "source": [
        "team_won_batting = 0\n",
        "team_won_fielding = 0\n",
        "\n",
        "for i in range(0,len(df)):\n",
        "  if df[\"toss_decision\"][i] == \"field\":\n",
        "    if df[\"toss_winner\"][i] == df[\"winner\"][i]:\n",
        "      team_won_fielding += 1\n",
        "    else:\n",
        "      team_won_batting += 1\n",
        "  else:\n",
        "    if df[\"toss_winner\"][i] == df[\"winner\"][i]:\n",
        "      team_won_batting += 1\n",
        "    else:\n",
        "      team_won_fielding += 1"
      ],
      "execution_count": 63,
      "outputs": []
    },
    {
      "cell_type": "code",
      "metadata": {
        "colab": {
          "base_uri": "https://localhost:8080/"
        },
        "id": "HJvv4dTuae-y",
        "outputId": "41290918-bc58-4c42-9cc2-1b70bef15dd5"
      },
      "source": [
        "team_won_batting"
      ],
      "execution_count": 64,
      "outputs": [
        {
          "output_type": "execute_result",
          "data": {
            "text/plain": [
              "338"
            ]
          },
          "metadata": {
            "tags": []
          },
          "execution_count": 64
        }
      ]
    },
    {
      "cell_type": "code",
      "metadata": {
        "colab": {
          "base_uri": "https://localhost:8080/"
        },
        "id": "4T_GY4ONahD4",
        "outputId": "7c82abea-6b1b-4f92-ef95-0a2e34861fff"
      },
      "source": [
        "team_won_fielding"
      ],
      "execution_count": 65,
      "outputs": [
        {
          "output_type": "execute_result",
          "data": {
            "text/plain": [
              "418"
            ]
          },
          "metadata": {
            "tags": []
          },
          "execution_count": 65
        }
      ]
    },
    {
      "cell_type": "markdown",
      "metadata": {
        "id": "rHKxVPm-AwrP"
      },
      "source": [
        "We can say that team chasing has got some edge against team setting the targets."
      ]
    },
    {
      "cell_type": "code",
      "metadata": {
        "id": "dRbAyA2fanBH"
      },
      "source": [
        "## Lets see that how many close-encounters are being produced by IPL and which team has mostly been involved in it.\n",
        "\n",
        "df_thrillers = df[((df['win_by_wickets'] > 0) & (df['win_by_wickets'] < 2)) | ((df['win_by_runs'] > 0) & (df['win_by_runs'] < 6))]"
      ],
      "execution_count": 66,
      "outputs": []
    },
    {
      "cell_type": "code",
      "metadata": {
        "id": "IF_AdcTXdUDS"
      },
      "source": [
        "df_team1 = pd.DataFrame(df_thrillers['team1'].value_counts())"
      ],
      "execution_count": 67,
      "outputs": []
    },
    {
      "cell_type": "code",
      "metadata": {
        "id": "TqJFzW1zdrDX"
      },
      "source": [
        "df_team2 = pd.DataFrame(df_thrillers[\"team2\"].value_counts())"
      ],
      "execution_count": 68,
      "outputs": []
    },
    {
      "cell_type": "code",
      "metadata": {
        "id": "6sHu0LmKdwz9"
      },
      "source": [
        "df_thrill = pd.concat([df_team1,df_team2],axis=1)"
      ],
      "execution_count": 69,
      "outputs": []
    },
    {
      "cell_type": "code",
      "metadata": {
        "colab": {
          "base_uri": "https://localhost:8080/",
          "height": 361
        },
        "id": "E3BuBSk2FkS6",
        "outputId": "eecf86ce-dd2a-43db-ef77-59808272a813"
      },
      "source": [
        "df_thrill "
      ],
      "execution_count": 70,
      "outputs": [
        {
          "output_type": "execute_result",
          "data": {
            "text/html": [
              "<div>\n",
              "<style scoped>\n",
              "    .dataframe tbody tr th:only-of-type {\n",
              "        vertical-align: middle;\n",
              "    }\n",
              "\n",
              "    .dataframe tbody tr th {\n",
              "        vertical-align: top;\n",
              "    }\n",
              "\n",
              "    .dataframe thead th {\n",
              "        text-align: right;\n",
              "    }\n",
              "</style>\n",
              "<table border=\"1\" class=\"dataframe\">\n",
              "  <thead>\n",
              "    <tr style=\"text-align: right;\">\n",
              "      <th></th>\n",
              "      <th>team1</th>\n",
              "      <th>team2</th>\n",
              "    </tr>\n",
              "  </thead>\n",
              "  <tbody>\n",
              "    <tr>\n",
              "      <th>MI</th>\n",
              "      <td>9</td>\n",
              "      <td>5.0</td>\n",
              "    </tr>\n",
              "    <tr>\n",
              "      <th>Punjab</th>\n",
              "      <td>8</td>\n",
              "      <td>5.0</td>\n",
              "    </tr>\n",
              "    <tr>\n",
              "      <th>RCB</th>\n",
              "      <td>5</td>\n",
              "      <td>3.0</td>\n",
              "    </tr>\n",
              "    <tr>\n",
              "      <th>SRH</th>\n",
              "      <td>5</td>\n",
              "      <td>6.0</td>\n",
              "    </tr>\n",
              "    <tr>\n",
              "      <th>CSK</th>\n",
              "      <td>4</td>\n",
              "      <td>5.0</td>\n",
              "    </tr>\n",
              "    <tr>\n",
              "      <th>RR</th>\n",
              "      <td>3</td>\n",
              "      <td>3.0</td>\n",
              "    </tr>\n",
              "    <tr>\n",
              "      <th>Delhi</th>\n",
              "      <td>3</td>\n",
              "      <td>6.0</td>\n",
              "    </tr>\n",
              "    <tr>\n",
              "      <th>KKR</th>\n",
              "      <td>3</td>\n",
              "      <td>6.0</td>\n",
              "    </tr>\n",
              "    <tr>\n",
              "      <th>GL</th>\n",
              "      <td>1</td>\n",
              "      <td>NaN</td>\n",
              "    </tr>\n",
              "    <tr>\n",
              "      <th>Pune</th>\n",
              "      <td>1</td>\n",
              "      <td>3.0</td>\n",
              "    </tr>\n",
              "  </tbody>\n",
              "</table>\n",
              "</div>"
            ],
            "text/plain": [
              "        team1  team2\n",
              "MI          9    5.0\n",
              "Punjab      8    5.0\n",
              "RCB         5    3.0\n",
              "SRH         5    6.0\n",
              "CSK         4    5.0\n",
              "RR          3    3.0\n",
              "Delhi       3    6.0\n",
              "KKR         3    6.0\n",
              "GL          1    NaN\n",
              "Pune        1    3.0"
            ]
          },
          "metadata": {
            "tags": []
          },
          "execution_count": 70
        }
      ]
    },
    {
      "cell_type": "code",
      "metadata": {
        "id": "49G90hNAFl3_"
      },
      "source": [
        "df_thrill = df_thrill[:5]"
      ],
      "execution_count": 71,
      "outputs": []
    },
    {
      "cell_type": "code",
      "metadata": {
        "id": "MAPKLr3rGEtx"
      },
      "source": [
        "df_thrill[\"team2\"] = df_thrill[\"team2\"].astype(int)"
      ],
      "execution_count": 72,
      "outputs": []
    },
    {
      "cell_type": "code",
      "metadata": {
        "colab": {
          "base_uri": "https://localhost:8080/",
          "height": 205
        },
        "id": "NsMiSlDiGHHL",
        "outputId": "2383d69d-4e38-410a-a9b3-00d3df7ee62b"
      },
      "source": [
        "df_thrill"
      ],
      "execution_count": 73,
      "outputs": [
        {
          "output_type": "execute_result",
          "data": {
            "text/html": [
              "<div>\n",
              "<style scoped>\n",
              "    .dataframe tbody tr th:only-of-type {\n",
              "        vertical-align: middle;\n",
              "    }\n",
              "\n",
              "    .dataframe tbody tr th {\n",
              "        vertical-align: top;\n",
              "    }\n",
              "\n",
              "    .dataframe thead th {\n",
              "        text-align: right;\n",
              "    }\n",
              "</style>\n",
              "<table border=\"1\" class=\"dataframe\">\n",
              "  <thead>\n",
              "    <tr style=\"text-align: right;\">\n",
              "      <th></th>\n",
              "      <th>team1</th>\n",
              "      <th>team2</th>\n",
              "    </tr>\n",
              "  </thead>\n",
              "  <tbody>\n",
              "    <tr>\n",
              "      <th>MI</th>\n",
              "      <td>9</td>\n",
              "      <td>5</td>\n",
              "    </tr>\n",
              "    <tr>\n",
              "      <th>Punjab</th>\n",
              "      <td>8</td>\n",
              "      <td>5</td>\n",
              "    </tr>\n",
              "    <tr>\n",
              "      <th>RCB</th>\n",
              "      <td>5</td>\n",
              "      <td>3</td>\n",
              "    </tr>\n",
              "    <tr>\n",
              "      <th>SRH</th>\n",
              "      <td>5</td>\n",
              "      <td>6</td>\n",
              "    </tr>\n",
              "    <tr>\n",
              "      <th>CSK</th>\n",
              "      <td>4</td>\n",
              "      <td>5</td>\n",
              "    </tr>\n",
              "  </tbody>\n",
              "</table>\n",
              "</div>"
            ],
            "text/plain": [
              "        team1  team2\n",
              "MI          9      5\n",
              "Punjab      8      5\n",
              "RCB         5      3\n",
              "SRH         5      6\n",
              "CSK         4      5"
            ]
          },
          "metadata": {
            "tags": []
          },
          "execution_count": 73
        }
      ]
    },
    {
      "cell_type": "code",
      "metadata": {
        "id": "vVU9PIpRHqGB"
      },
      "source": [
        "df_thrill[\"total_thrillers\"] = df_thrill[\"team1\"] + df_thrill[\"team2\"]"
      ],
      "execution_count": 74,
      "outputs": []
    },
    {
      "cell_type": "code",
      "metadata": {
        "id": "EmLx2K_bHIC9"
      },
      "source": [
        "teams_with_most_thrillers = df_thrill[\"total_thrillers\"]"
      ],
      "execution_count": 75,
      "outputs": []
    },
    {
      "cell_type": "code",
      "metadata": {
        "id": "VJ7ukx9wIAO4",
        "colab": {
          "base_uri": "https://localhost:8080/"
        },
        "outputId": "52da03bc-6ed4-44fd-fed1-fbdd4e1feec7"
      },
      "source": [
        "teams_with_most_thrillers"
      ],
      "execution_count": 76,
      "outputs": [
        {
          "output_type": "execute_result",
          "data": {
            "text/plain": [
              "MI        14\n",
              "Punjab    13\n",
              "RCB        8\n",
              "SRH       11\n",
              "CSK        9\n",
              "Name: total_thrillers, dtype: int64"
            ]
          },
          "metadata": {
            "tags": []
          },
          "execution_count": 76
        }
      ]
    },
    {
      "cell_type": "markdown",
      "metadata": {
        "id": "Umx2xnK0B7WC"
      },
      "source": [
        "##Conclusions:\n",
        "\n",
        "\n",
        "*   Mumbai Indians has been the most successful team over the years.\n",
        "*   Chennai Super Kings has been the most consistent team.\n",
        "*   Gayle and ABD has been the biggest match winners.\n",
        "*   Toss is not a big factor in IPL.\n",
        "*   Chasing team has got an slight advantage.\n",
        "*   The first season for Rajasthan has been the most successful year for any team.\n",
        "\n",
        "\n",
        "\n",
        "\n",
        "\n"
      ]
    }
  ]
}